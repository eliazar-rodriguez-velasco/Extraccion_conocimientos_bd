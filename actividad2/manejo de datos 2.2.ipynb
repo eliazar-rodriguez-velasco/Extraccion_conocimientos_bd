{
  "nbformat": 4,
  "nbformat_minor": 0,
  "metadata": {
    "colab": {
      "name": "Untitled4.ipynb",
      "provenance": []
    },
    "kernelspec": {
      "name": "python3",
      "display_name": "Python 3"
    },
    "language_info": {
      "name": "python"
    }
  },
  "cells": [
    {
      "cell_type": "markdown",
      "metadata": {
        "id": "zp4yz02Jm26D"
      },
      "source": [
        "2.2 PREPARACIÓN DE LOS DATOS\n",
        "EXTRACCIÓN DE CONOCIMIENTOS DE BASES DE DATOS\n",
        "INTEGRANTES\n",
        "REYES ROMERO GUSTAVO\n",
        "RODRIGUEZ VELASCO ELIAZAR\n",
        "DE JESUS CABRERA CARLOS ARMANDO \n",
        "Ejercicio:\n",
        "Formar un equipo de 3 integrantes máximo y realizar las actividades.\n",
        "\n",
        "Crear una libreta de jupyter en Colab y realizar el análisis del dataset anexo.\n",
        "\n",
        "Crear un repositorio de github con el nombre de la materia.\n",
        "\n",
        "Almacenar la libreta de jupyter en el repositorio creado.\n",
        "\n",
        "Realizar el reporte de su practica."
      ]
    },
    {
      "cell_type": "markdown",
      "metadata": {
        "id": "-y0PThWjnrSU"
      },
      "source": [
        "la primera parte de este analisis son los datos \n",
        "para eso debemos de subir el archivo\n",
        "ecommerce_costumers.csv\n"
      ]
    },
    {
      "cell_type": "markdown",
      "metadata": {
        "id": "1ejRtvUQnWPk"
      },
      "source": [
        "una vez el archivo ecommerce_costumers.csv este cargado \n",
        "nos dirigimos a importar las librerias que vamos a ocupar"
      ]
    },
    {
      "cell_type": "markdown",
      "metadata": {
        "id": "X9aBXMXHK_Tj"
      },
      "source": [
        "# Importar librerias"
      ]
    },
    {
      "cell_type": "code",
      "metadata": {
        "colab": {
          "base_uri": "https://localhost:8080/"
        },
        "id": "wmoOK--eLBoM",
        "outputId": "4a431f68-fa22-482a-b57d-367f598d991a"
      },
      "source": [
        "import tensorflow as tf\n",
        "import numpy as np\n",
        "from tensorflow import keras\n",
        "import pandas as pd\n",
        "from google.colab import files\n",
        "import matplotlib.pyplot as plt\n",
        "print(np.__version__)\n",
        "print(pd.__version__)"
      ],
      "execution_count": 2,
      "outputs": [
        {
          "output_type": "stream",
          "name": "stdout",
          "text": [
            "1.19.5\n",
            "1.1.5\n"
          ]
        }
      ]
    },
    {
      "cell_type": "markdown",
      "metadata": {
        "id": "WUIixxm1LIU2"
      },
      "source": [
        "# Ver datos"
      ]
    },
    {
      "cell_type": "markdown",
      "metadata": {
        "id": "CNhft6hGn5tf"
      },
      "source": [
        "leer datos e importarlos \n"
      ]
    },
    {
      "cell_type": "code",
      "metadata": {
        "colab": {
          "resources": {
            "http://localhost:8080/nbextensions/google.colab/files.js": {
              "data": "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",
              "ok": true,
              "headers": [
                [
                  "content-type",
                  "application/javascript"
                ]
              ],
              "status": 200,
              "status_text": ""
            }
          },
          "base_uri": "https://localhost:8080/",
          "height": 128
        },
        "id": "HHnbgpL9LKl4",
        "outputId": "9a2cf1d0-60ec-48c3-a8b8-f5dcef68cfbc"
      },
      "source": [
        "files.upload()"
      ],
      "execution_count": 4,
      "outputs": [
        {
          "output_type": "display_data",
          "data": {
            "text/html": [
              "\n",
              "     <input type=\"file\" id=\"files-d6b1e9a4-b20b-4432-9955-bb5bdeebb9e9\" name=\"files[]\" multiple disabled\n",
              "        style=\"border:none\" />\n",
              "     <output id=\"result-d6b1e9a4-b20b-4432-9955-bb5bdeebb9e9\">\n",
              "      Upload widget is only available when the cell has been executed in the\n",
              "      current browser session. Please rerun this cell to enable.\n",
              "      </output>\n",
              "      <script src=\"/nbextensions/google.colab/files.js\"></script> "
            ],
            "text/plain": [
              "<IPython.core.display.HTML object>"
            ]
          },
          "metadata": {}
        },
        {
          "output_type": "stream",
          "name": "stdout",
          "text": [
            "Saving ecommerce_customers.csv to ecommerce_customers.csv\n"
          ]
        },
        {
          "output_type": "execute_result",
          "data": {
            "text/plain": [
              "{'ecommerce_customers.csv': b'Email,Address,Avatar,Avg. Session Length,Time on App,Time on Website,Length of Membership,Yearly Amount Spent\\r\\nmstephenson@fernandez.com,\"835 Frank Tunnel\\nWrightmouth, MI 82180-9605\",Violet,34.49726773,12.65565115,39.57766802,4.082620633,587.951054\\r\\nhduke@hotmail.com,\"4547 Archer Common\\nDiazchester, CA 06566-8576\",DarkGreen,31.92627203,11.10946073,37.26895887,2.664034182,392.2049334\\r\\npallen@yahoo.com,\"24645 Valerie Unions Suite 582\\nCobbborough, DC 99414-7564\",Bisque,33.00091476,11.33027806,37.11059744,4.104543202,487.5475049\\r\\nriverarebecca@gmail.com,\"1414 David Throughway\\nPort Jason, OH 22070-1220\",SaddleBrown,34.30555663,13.71751367,36.72128268,3.120178783,581.852344\\r\\nmstephens@davidson-herman.com,\"14023 Rodriguez Passage\\nPort Jacobville, PR 37242-1057\",MediumAquaMarine,33.33067252,12.79518855,37.5366533,4.446308318,599.406092\\r\\nalvareznancy@lucas.biz,\"645 Martha Park Apt. 611\\nJeffreychester, MN 67218-7250\",FloralWhite,33.87103788,12.02692534,34.47687763,5.493507201,637.1024479\\r\\nkatherine20@yahoo.com,\"68388 Reyes Lights Suite 692\\nJosephbury, WV 92213-0247\",DarkSlateBlue,32.0215955,11.36634831,36.68377615,4.685017247,521.5721748\\r\\nawatkins@yahoo.com,\"Unit 6538 Box 8980\\nDPO AP 09026-4941\",Aqua,32.73914294,12.35195897,37.37335886,4.434273435,549.9041461\\r\\nvchurch@walter-martinez.com,\"860 Lee Key\\nWest Debra, SD 97450-0495\",Salmon,33.9877729,13.38623528,37.53449734,3.273433578,570.200409\\r\\nbonnie69@lin.biz,\"PSC 2734, Box 5255\\nAPO AA 98456-7482\",Brown,31.93654862,11.81412829,37.14516822,3.202806072,427.1993849\\r\\nandrew06@peterson.com,\"26104 Alexander Groves\\nAlexandriaport, WY 28244-9149\",Tomato,33.99257277,13.33897545,37.22580613,,492.6060127\\r\\nryanwerner@freeman.biz,\"Unit 2413 Box 0347\\nDPO AA 07580-2652\",Tomato,33.87936082,11.584783,37.08792607,3.713209203,522.3374046\\r\\nknelson@gmail.com,\"6705 Miller Orchard Suite 186\\nLake Shanestad, MO 75696-5051\",RoyalBlue,29.53242897,10.9612984,37.42021558,4.046423164,408.6403511\\r\\nwrightpeter@yahoo.com,\"05302 Dunlap Ferry\\nNew Stephaniehaven, MP 42268\",Bisque,33.19033404,12.95922609,36.1446667,3.918541839,573.4158673\\r\\ntaylormason@gmail.com,\"7773 Powell Springs Suite 190\\nSamanthaland, ND 44358\",DarkBlue,32.38797585,13.14872569,36.61995708,2.494543647,470.4527333\\r\\njstark@anderson.com,\"49558 Ramirez Road Suite 399\\nPhillipstad, OH 35641-3238\",Peru,30.73772037,12.63660605,36.21376309,3.357846842,461.7807422\\r\\nwjennings@gmail.com,\"6362 Wilson Mountain\\nJohnsonfurt, GA 15169\",PowderBlue,32.1253869,11.73386169,34.89409275,3.136132716,457.8476959\\r\\nrebecca45@hale-bauer.biz,\"8982 Burton Row\\nWilsonton, PW 88606\",OliveDrab,32.33889932,12.01319469,38.38513659,2.420806161,407.7045475\\r\\nalejandro75@hotmail.com,\"64475 Andre Club Apt. 795\\nPort Dannytown, PW 63227\",Cyan,32.18781205,14.71538754,38.24411459,1.516575581,452.3156755\\r\\nsamuel46@love-west.net,\"544 Alexander Heights Suite 768\\nNorth Johnview, MT 57912\",LightSeaGreen,32.61785606,13.98959256,37.1905038,4.06454855,605.0610388\\r\\nmegan33@gmail.com,\"84426 Julia Vista\\nNorth Teresa, KY 50756\",PeachPuff,32.91278511,11.36549203,37.60779252,4.599937358,534.7057438\\r\\nagolden@yahoo.com,\"PSC 2490, Box 2120\\nAPO AE 15445-2876\",Black,33.50308726,12.8779837,37.44102134,1.55915194,419.9387748\\r\\nvstafford@hotmail.com,\"PSC 5723, Box 8159\\nAPO AA 74738\",Olive,31.53160448,13.37856278,38.73400629,2.245147787,436.5156057\\r\\ndenise22@hernandez-townsend.com,\"USNS Cardenas\\nFPO AA 85439-9449\",Silver,32.90325097,11.65757592,36.77260376,3.919302309,519.3409891\\r\\nyoungbarbara@yahoo.com,\"019 Elliott Tunnel Suite 190\\nNicholsbury, WV 60804-4440\",Wheat,34.507551,12.8936695,37.63575588,5.705153971,700.9170916\\r\\nwilliam25@mcconnell.com,\"9495 Mary Fall Apt. 777\\nGlassport, ND 17957-5596\",Teal,33.02933195,11.76581265,37.73852495,2.721735992,423.1799917\\r\\nijones@schaefer-carr.net,\"657 Judith Crossroad\\nHancockchester, VI 75658-5788\",Linen,33.54123131,12.78389178,36.43064962,4.648199316,619.8956399\\r\\nheatherhall@yahoo.com,\"8522 Regina Port Suite 782\\nPort Kaitlin, TX 50501-7264\",MediumSlateBlue,32.33598964,13.00781942,37.85177917,2.996364526,486.8389348\\r\\ntinasmith@martinez.info,\"40000 Ann Port Suite 474\\nYoungberg, MS 03651\",LemonChiffon,33.11020506,11.98204499,35.29308775,3.923488746,529.5376653\\r\\nchasejennifer@hotmail.com,\"9507 Robert Prairie Apt. 601\\nEast Crystalview, SC 56814\",DarkOrchid,33.10543794,11.96502,37.27781174,4.74257752,554.7220838\\r\\njenniferbarnett@gmail.com,\"0772 Michael Isle Suite 617\\nMeyerstown, WA 45449-6768\",SeaGreen,33.24190043,12.30541781,36.16364817,3.062368145,497.5866713\\r\\njared39@hotmail.com,\"739 David Isle Suite 818\\nChandlertown, DC 34587\",SteelBlue,33.4610563,10.86916381,35.62244242,3.471413452,447.6879065\\r\\nbriancarlson@page-fleming.com,\"USCGC Gill\\nFPO AA 26496\",DarkMagenta,32.17550124,13.38749211,35.69417499,4.343062915,588.7126055\\r\\njoshuaodom@gmail.com,\"5277 Patel Brook\\nEast Audrey, NJ 19075\",DarkGoldenRod,32.72836,13.10450724,38.87804051,2.820097234,491.0732237\\r\\nvickie90@lee-wilson.com,\"9135 Rodriguez Dam\\nRamirezberg, MS 77223\",DarkSeaGreen,32.82030995,11.63489325,35.36862633,4.124585297,507.4418323\\r\\nduane56@hotmail.com,\"24373 Mcgee Drive Apt. 990\\nNew Mariahaven, NH 14470\",Gainsboro,33.61603789,11.9363865,38.768641,3.649286158,521.8835732\\r\\nenash@gmail.com,\"997 Campbell Flat Suite 970\\nEast Amanda, PW 22048\",HotPink,31.72165236,11.7550237,36.76572236,1.847370423,347.7769266\\r\\nsandraharrison@bailey-gordon.net,\"7835 Rogers Roads\\nEast Amberhaven, MI 70835-2286\",LightSeaGreen,32.86532717,11.98441752,37.0443614,3.452388583,490.7386321\\r\\ncunninghamwilliam@hotmail.com,\"4589 Dan Fords\\nBeasleyburgh, ME 96590-8272\",HoneyDew,32.74936818,9.954975969,,4.650491269,478.1703341\\r\\nteresaallen@hill-leach.info,\"1958 Robert Bridge Apt. 250\\nMalloryland, ID 03393-5336\",WhiteSmoke,32.56723048,12.48901322,36.37147981,4.222436225,537.8461953\\r\\nrhonda96@little.org,\"2977 Perez Row\\nLake Jack, TN 45336-9436\",GhostWhite,32.07054622,11.73310622,37.53429101,4.671275461,532.7517876\\r\\nlisacabrera@yahoo.com,\"9801 Thomas Pike Suite 058\\nBrandishire, AK 88122-1314\",DarkSlateBlue,33.01954799,10.63456132,37.49669015,4.646119977,501.8744303\\r\\njasonrichardson@elliott.com,\"18372 Matthew Fork Suite 705\\nNorth Matthewmouth, KY 99737\",Chocolate,33.79203908,12.50752537,37.14286198,4.214495086,591.1971782\\r\\nhoovernicole@dorsey.net,\"69403 Hernandez Knolls\\nMarciashire, DE 36417-5667\",HoneyDew,32.89398062,11.52987821,36.88808605,4.64325855,547.2443434\\r\\nchristopher20@gmail.com,\"USNV Fuller\\nFPO AE 32122-5711\",Snow,32.04448613,13.41493474,36.11243501,2.258686387,448.2298292\\r\\nbrianwilson@yahoo.com,\"448 Stewart Divide\\nNew Ashleyfort, FM 84050\",BurlyWood,34.55576799,12.17052542,39.13109673,3.663105491,549.8605905\\r\\ngonzaleskatie@gmail.com,\"70129 Darrell Spring\\nThomasmouth, HI 39319-2739\",Moccasin,34.56455771,13.14655143,37.33544589,3.876875177,593.915003\\r\\nlsmith@chung.com,\"412 Jackson River\\nKleinburgh, KS 52039-7404\",BlueViolet,32.7267846,12.98851015,36.46200326,4.113226123,563.6728734\\r\\ndongarcia@hotmail.com,\"546 Benjamin Lights Suite 421\\nRomerofurt, NC 43746-4501\",MediumBlue,33.11721873,11.86412636,36.58272777,3.202531199,479.7319491\\r\\nkimberly46@garcia-nelson.biz,\"4066 Gonzalez Dam Apt. 277\\nWest Jessica, TN 36880\",GreenYellow,31.66104982,11.39806419,36.5944567,3.198399272,416.3583536\\r\\nwilliam82@gmail.com,\"11143 Park Squares\\nSamanthatown, UT 97073\",SandyBrown,33.25633547,13.85806246,37.78026469,5.976768126,725.5848141\\r\\nbrenda82@maldonado-gonzalez.net,\"645 Elizabeth Pass\\nWilliamview, MS 51544\",MediumVioletRed,33.90022441,10.95679097,37.26687826,2.952668958,442.6672517\\r\\njosephgould@west.info,\"861 Annette Stream Suite 771\\nNorth Miguel, CA 33824-1610\",DarkBlue,34.18777483,10.32011626,37.4534051,2.094891706,384.6265716\\r\\nwbrady@yahoo.com,\"044 Riggs Expressway\\nLake Stevenchester, AL 22283\",SandyBrown,33.76206924,9.984514397,35.9334493,3.855471685,451.4574469\\r\\nsmithtracey@mcgee.com,\"PSC 4508, Box 7961\\nAPO AA 55271-2375\",DarkOliveGreen,34.39016366,12.64519514,38.46832111,2.87459691,522.4041413\\r\\namberchase@fowler.info,\"1867 Gregory Isle Suite 022\\nPort Tammy, LA 52305-9696\",GreenYellow,33.9252966,11.58865542,35.25224202,3.392050489,483.673308\\r\\ngregoryholmes@hotmail.com,\"2891 Martin Plain Suite 197\\nMelaniestad, NE 65650-8529\",DarkSalmon,32.6882293,13.76153285,39.25293095,2.995761183,520.8987945\\r\\njeffreydawson@gmail.com,\"9944 Trevor Expressway\\nRobinsonstad, OR 34630-1840\",DarkSeaGreen,34.30187022,10.56829469,36.17312563,3.315224754,453.1695024\\r\\nrjohns@gmail.com,\"264 Derek Dam Apt. 680\\nWest Danielle, SD 91517-8611\",DeepPink,32.84393022,11.83228622,36.81401056,3.471919137,496.6507081\\r\\njohn85@martin-morgan.com,\"USNV Reese\\nFPO AA 73568-0730\",Olive,33.75499473,12.06415663,37.27122169,3.970555628,547.3651406\\r\\nvcoleman@yahoo.com,\"7761 Hughes Curve Apt. 880\\nRodriguezberg, MN 96206-5317\",SkyBlue,33.87978429,12.4955916,38.05260975,4.639320332,616.851523\\r\\nfloresarthur@yahoo.com,\"12612 Johnson Skyway Suite 764\\nJessicaville, CT 14968-6590\",Magenta,33.07653561,9.607314688,36.49399255,5.081210092,507.212569\\r\\nryan36@gmail.com,\"5379 Rhonda Prairie Apt. 696\\nBrownland, WA 87027\",DarkTurquoise,32.22729914,13.72862718,37.99702801,4.802630631,613.5993234\\r\\nchris67@ryan.biz,\"716 Bush Greens Apt. 098\\nTrevorton, MA 17817-8000\",Silver,32.78977262,11.67006592,37.40874848,3.414688423,483.1597208\\r\\nkatie25@gmail.com,\"6861 Lopez Fork Apt. 114\\nSouth Jamiechester, DE 63993\",SpringGreen,32.77260993,13.27631301,36.60077705,3.462298847,540.2634004\\r\\nkyang@diaz.org,\"223 Love Trail Suite 831\\nPort Jeffrey, IN 46849\",OliveDrab,34.37425805,15.12699429,37.15762409,5.377593584,765.5184619\\r\\ntadams@contreras.info,\"049 Matthew Terrace\\nLake Matthew, MS 20210\",Aqua,33.07871721,12.69578975,35.35844431,4.001786346,553.6015347\\r\\ncraigcastro@burgess.com,\"65407 Warner Forges Suite 071\\nNew Lori, AZ 30132-2395\",OrangeRed,32.8052204,11.83547609,36.37506611,3.43959056,469.3108615\\r\\nellen24@anthony.com,\"PSC 3408, Box 3353\\nAPO AE 05113-1257\",LimeGreen,32.43075793,11.30623234,37.68040323,2.779520719,408.6201878\\r\\ndavisrobert@hicks-smith.com,\"95967 Pitts Burgs\\nWest Sarah, MH 27817-5147\",SkyBlue,32.17909997,11.18753891,40.00518164,3.552649767,451.5756852\\r\\nwalkerlaura@peterson-yates.com,\"89154 Jones Stream Suite 311\\nEast Katie, NC 72742-1516\",LightGreen,33.15417579,11.88749413,36.2650007,2.602287112,444.9665517\\r\\nmarc54@hotmail.com,\"Unit 6174 Box 1949\\nDPO AP 27478\",SandyBrown,34.33589584,12.22893471,36.15719115,4.694322274,595.8228367\\r\\ngregoryrussell@yahoo.com,\"55436 Devon Plain\\nWest Kendraberg, HI 18826-3623\",Teal,32.38625186,10.67465347,38.00658318,3.401522345,418.1500811\\r\\nwilliamsjohnny@ferguson.info,\"51920 Kent Junctions Apt. 352\\nWalkerport, NY 11257-6647\",LightYellow,32.80869759,12.81711309,37.03153922,3.8515788,534.7771881\\r\\nhaydenrebecca@gmail.com,\"10022 Wilson Orchard Suite 107\\nHarrisstad, MH 99272\",MintCream,33.87974497,13.58780608,38.26035344,3.258112883,578.2416051\\r\\nlangmatthew@hotmail.com,\"606 Perez Drives\\nMaryside, CO 94387-5877\",DimGray,32.04983939,12.23805735,38.73086174,3.120568915,478.7193569\\r\\ndavid43@richards.com,\"967 Andrew Spurs\\nMathistown, CO 28230\",Indigo,33.55520742,11.55182117,36.62883429,2.837943164,444.2859075\\r\\npaulkemp@yahoo.com,\"PSC 9698, Box 5466\\nAPO AE 75496-3580\",LightSalmon,33.14207933,11.43337993,35.89243163,4.470282584,544.7798637\\r\\nfbryant@gmail.com,\"284 Jennifer Curve\\nLake Hollyberg, IN 05228\",GreenYellow,32.59718266,10.88956686,38.21257083,4.442054329,488.7860611\\r\\nkimberlyfrederick@gmail.com,\"71299 Jessica Shoals\\nEast Mark, IA 48085-1070\",DeepSkyBlue,33.16713688,11.92884209,36.91463331,3.164943995,475.7590678\\r\\nsharon82@saunders.info,\"873 Clay Flats Apt. 810\\nLake Kyle, GU 48782\",DarkGreen,31.51473786,12.59567131,39.60037647,3.751734552,489.812488\\r\\nfishermichael@ramos.com,\"565 Duarte Keys Suite 293\\nTraceytown, IN 17797\",LimeGreen,34.59402115,10.94725858,35.88399439,3.159754444,462.8976362\\r\\nilawson@hotmail.com,\"19018 Christopher Neck Apt. 963\\nMcintoshchester, IA 66908-2456\",DarkGoldenRod,33.50136982,13.89808199,37.05891282,4.130562809,596.4301726\\r\\nshafferdaniel@murphy-harris.info,\"USCGC Thomas\\nFPO AP 43708-2468\",Turquoise,32.40237102,10.87555955,37.78114256,1.914089924,338.3198626\\r\\nstevenanderson@yahoo.com,\"5401 Holt Corner Apt. 195\\nHannahstad, NC 86693-3595\",LightGreen,34.65548568,10.3380727,36.15725594,4.396651901,533.5149353\\r\\nrichard16@boyer-pratt.com,\"4568 Jeffrey Lane Apt. 512\\nSouth Jason, WV 78116-0966\",LightSteelBlue,31.80930032,11.63466822,36.18253928,5.113319475,536.7718994\\r\\nhyoung@jones.info,\"73469 Baker Forest Apt. 550\\nAllenbury, TX 63791\",Cornsilk,33.8777793,12.51766629,37.15192066,2.669941624,487.379306\\r\\nerik46@hotmail.com,\"20711 Martin Harbors Apt. 582\\nNew Justinborough, AK 40834-2664\",LemonChiffon,34.44787144,10.60772387,36.81909551,3.366463743,473.7289665\\r\\nrojasmichael@wagner-thomas.com,\"7602 Scott Plaza Apt. 158\\nLake Amberland, VI 10516-3276\",DarkKhaki,31.95630056,12.8288934,36.95161668,4.571213024,547.1259317\\r\\nlance88@briggs.com,\"16001 Wilkins Island Suite 852\\nJonathanfort, AL 88541-7817\",FireBrick,32.60558364,12.06881608,36.1050005,3.917451119,505.1133435\\r\\nanthony09@hotmail.com,\"5118 Madden Views Apt. 738\\nNorth Barryport, AS 28731-2270\",LightSeaGreen,32.4914466,12.53035737,37.8752191,2.476139051,449.0703194\\r\\naudreyjohnson@rosales.com,\"USCGC Nicholson\\nFPO AE 43987-0470\",SlateGray,33.61601855,13.5162843,36.77312349,4.125584363,611.0000251\\r\\nbeth76@yahoo.com,\"4522 Paul Heights Suite 851\\nAdamsland, RI 08981\",Crimson,33.47160053,11.66226343,36.05024078,3.997255378,515.8288149\\r\\nlarrywest@davis.com,\"21918 Gail Glens\\nBarbershire, SD 45790-8387\",MidnightBlue,33.71065306,13.66474788,37.72438616,1.36267408,439.0747667\\r\\nraylopez@hotmail.com,\"3600 Amber Plains Suite 002\\nNorth Jamesburgh, VA 07917\",DarkGoldenRod,32.1977238,11.83023109,36.6338567,4.193324636,514.0889577\\r\\nmiddletonrenee@gmail.com,\"71757 David Freeway Apt. 851\\nWest Carriefurt, NC 27106-3364\",DarkCyan,32.46121245,13.29114305,38.63362565,3.8710034,543.3401663\\r\\ngrichardson@ryan.info,\"79139 Boone Common\\nStewartstad, DE 63633-1812\",SteelBlue,33.79038721,11.94234087,38.06341359,4.081802695,521.1429518\\r\\nesmith@gmail.com,\"USS Johnson\\nFPO AE 35617-5384\",OldLace,34.18382052,13.34991294,37.82739423,4.252006106,614.7153338\\r\\nmichael53@munoz.com,\"USNS Mitchell\\nFPO AP 92946\",MediumBlue,32.28866691,12.02011209,39.07440021,3.911708668,507.3900618\\r\\njacqueline46@mcdonald-smith.biz,\"3794 Michael Forest Apt. 750\\nNew Stephenberg, MD 61004-0181\",Gray,33.82635201,12.08409173,35.89035796,3.021671822,495.2994425\\r\\nbriannasantana@gmail.com,\"88978 Noble Crest\\nNorth Rosemouth, FM 53484-6689\",LightPink,32.49839307,13.41075918,35.99048895,3.184618662,518.064558\\r\\nmark52@yahoo.com,\"82227 Farmer Throughway Suite 266\\nLeeborough, WV 35324\",BlanchedAlmond,31.8854063,11.28193107,37.38531755,2.877224878,390.103273\\r\\nacampbell@sanchez-velasquez.info,\"5791 Jessica Cove\\nMckinneyborough, OK 64460-7536\",Wheat,32.42569728,11.44890154,37.58019043,2.586967985,420.7376732\\r\\nqgarcia@williams.com,\"465 Kenneth Common Apt. 192\\nNorth Tracy, WI 36024-8978\",Aqua,33.43782956,12.59542035,36.2620318,2.969640227,492.1050524\\r\\njenniferking@hess.net,\"06939 Jones Neck\\nMariaview, VT 87641\",BlueViolet,31.38958548,10.99422392,38.07445242,3.428859904,410.0696111\\r\\ntaylor91@hotmail.com,\"3132 Willie Harbor\\nKaylafurt, FL 01107\",CadetBlue,33.46869995,13.08550576,35.84582711,2.926940235,497.5136833\\r\\nafry@ford.biz,\"399 Jeremy Skyway Suite 377\\nNorth Keithville, IL 55074\",PaleTurquoise,32.2917561,12.19047429,36.15246209,3.781823039,494.5518611\\r\\namandadean@gmail.com,\"66880 Mckinney Hills\\nMatthewchester, MH 88386\",DimGray,32.06377462,10.71914974,37.71250864,3.004742536,378.3309069\\r\\nbrenda68@hotmail.com,\"0377 Reed Via Apt. 169\\nAlexandershire, MO 43498\",Moccasin,33.1556997,12.93155027,38.16643556,3.854473856,570.4517259\\r\\nbakerdrew@gmail.com,\"39637 Griffin Plain Suite 691\\nNew Deborahview, MP 73870-3773\",Chartreuse,33.35687434,13.45212896,38.50300885,3.318822279,549.0082269\\r\\nconnorlambert@yahoo.com,\"931 Andrews Heights\\nSouth Shelley, NV 21850\",Khaki,31.8530748,12.14937549,37.32533422,3.361814624,459.2851235\\r\\ntknapp@yahoo.com,\"15810 Karl Plain\\nDavidville, TX 64072\",MediumSpringGreen,32.01230077,12.17833133,37.71598618,3.722561173,492.9450531\\r\\ngarcialisa@yahoo.com,\"46079 Gonzalez Loaf\\nWilliamside, PA 72265\",LemonChiffon,32.38845163,11.01048213,38.41504158,3.54354705,424.7626355\\r\\njosephallen@hotmail.com,\"3144 Jamie Rest\\nMaxwellville, NC 93749-1190\",PeachPuff,32.65318146,11.60253219,37.30968877,2.789461516,422.4267759\\r\\nhailey18@yahoo.com,\"08079 Thompson Village\\nNorth Lukeborough, AL 16825\",Lime,32.93133644,12.73221159,35.60082055,5.485976734,642.1015787\\r\\nwhess@hotmail.com,\"29282 Alexander Street\\nSouth Andrewmouth, MS 22041\",Tomato,33.2356065,11.22336889,37.69230086,2.594189721,413.3717831\\r\\njosesims@hunter.com,\"8830 Debra Loaf Apt. 341\\nDrakeville, ME 22340\",SlateBlue,33.9257949,12.01102188,36.70105232,2.753424169,479.2310929\\r\\ndtaylor@webb.com,\"18219 Jackson Well\\nFosterton, MP 85302\",Orange,33.05926409,11.7259101,35.9990993,5.004820577,593.0772413\\r\\nbriangonzales@gmail.com,\"572 Michelle Motorway Apt. 889\\nNew Craig, ND 17250\",Fuchsia,32.40173183,12.08930957,38.3099079,3.873337569,506.5473071\\r\\njared99@yahoo.com,\"PSC 0811, Box 7054\\nAPO AA 91691\",GoldenRod,33.88994101,13.06863858,37.54052036,3.798725319,571.3074949\\r\\nqchristian@martinez-allen.com,\"26737 Brooks Roads\\nVincentstad, VA 93089\",GreenYellow,34.56938122,12.85499037,35.00748226,3.292797663,576.3111774\\r\\nngarcia@donaldson.info,\"662 Wells Stravenue Apt. 578\\nSouth Kristaview, DC 49423-2452\",ForestGreen,33.7016052,11.56402237,37.67321037,4.716104987,576.8025474\\r\\nscastillo@hotmail.com,\"0922 Gutierrez Loaf\\nWattsbury, OH 96315\",Moccasin,33.26833022,11.1133299,37.38794554,4.01872661,514.2395207\\r\\njoshua56@garcia.com,\"38154 Davis Locks\\nLake Stevenfort, KY 86814-9222\",Indigo,31.35847719,12.80988347,36.54966799,3.63770128,495.1759504\\r\\nrichard81@day.org,\"7955 Samantha Walk Suite 230\\nNorth Luis, IL 44629\",SlateBlue,33.01479222,11.76117233,37.57016384,3.834169667,514.3365583\\r\\njessica97@hotmail.com,\"32202 Curtis Branch Apt. 411\\nPort Brettmouth, KY 01192-0594\",Cyan,31.57613197,12.57989417,37.09326487,4.531986607,541.226584\\r\\nangelaphillips@gmail.com,\"102 Karen Court\\nNew Jameston, SC 57761-6570\",MintCream,32.65726859,11.95792306,36.63465233,4.106055152,516.8315567\\r\\ndonald67@harrison.com,\"9759 Tammy Skyway Apt. 171\\nLake Debra, AS 95011\",Lime,34.7093233,10.65179378,37.14600653,3.218265385,468.4457372\\r\\nzmalone@yahoo.com,\"PSC 6717, Box 7673\\nAPO AE 66950-0088\",Moccasin,34.53665918,12.75207661,36.71413784,3.283663455,548.2803202\\r\\nrlindsey@norris.com,\"581 Smith Prairie Suite 995\\nAndersontown, AS 58802\",Green,32.77171501,11.54083244,37.52642103,2.924020725,431.6177338\\r\\nlewisgabrielle@hotmail.com,\"422 Rivers Springs Suite 221\\nNorth Barbara, WI 51990-7596\",LightSkyBlue,33.70040046,11.92439492,37.24503247,3.905250309,552.9403455\\r\\nkristina69@gmail.com,\"2859 Rodriguez Forks\\nPort Josephtown, OH 13591-3011\",BlueViolet,32.43977025,12.42413041,38.94882503,4.920318406,573.3062223\\r\\nkrista86@norton.net,\"0537 Rice Village\\nWest Kylieberg, NJ 19433-5090\",Azure,34.312167,11.81058676,37.41413357,2.473596121,452.627255\\r\\nchelsea05@hansen.com,\"7182 Stephen Fork Suite 150\\nPort Laurachester, CO 99974-1961\",LightGray,32.45517629,12.75916898,36.59911235,4.131276648,542.7115581\\r\\njill33@allen.com,\"459 Amy Burg\\nLake Travis, OR 53314\",DarkCyan,33.54097679,11.85189083,37.42454792,1.767730708,407.8040306\\r\\nwelchashlee@hotmail.com,\"PSC 8159, Box 3254\\nAPO AP 71071-4890\",GreenYellow,33.35839828,12.70368793,36.10091445,2.724108202,482.3535703\\r\\ndawnlewis@watkins.org,\"623 Erica Flat\\nLake Josephland, MT 73514\",Crimson,32.68612926,12.21525242,36.59436168,3.89711586,529.2300901\\r\\nashleychristopher@gmail.com,\"9271 Christopher Prairie\\nDouglasshire, NM 18581\",MediumOrchid,34.55829461,11.281445,36.49440648,2.491671541,433.0487691\\r\\nacontreras@hotmail.com,\"88995 Edwards Row Suite 456\\nNorth Jo, DE 02062-7953\",Sienna,33.54774794,10.73536292,37.45837473,3.863425442,476.1914133\\r\\nalvaradoadam@jones-thompson.com,\"35970 Holly Key\\nPort Frank, VT 78059-9385\",Aquamarine,31.95490386,10.96313178,37.32728269,3.5786339,439.9978799\\r\\nthomasgeorge@gonzalez-grant.com,\"93306 Donald Greens\\nNew Christopherbury, SC 59447\",FloralWhite,31.06621816,11.73509455,36.59937399,3.958892264,448.9332932\\r\\nsolischristina@gmail.com,\"43102 Russo View Suite 717\\nHollyport, SC 15344\",SlateBlue,31.85125313,12.41896198,35.97765171,3.25174177,472.9922467\\r\\njacksonboone@rubio.com,\"973 Marc Ports\\nBrownstad, IN 48786-6700\",Sienna,32.60928264,10.53730754,35.7305524,3.914384667,463.923513\\r\\nkaitlyn78@chang.com,\"978 Bean Square\\nDeanburgh, OR 95149\",LimeGreen,32.11511907,11.9192424,39.29404346,1.443515075,350.0582002\\r\\nfrancisgeorge@thomas.org,\"27563 Vincent Lake\\nAllenchester, DC 22159\",Teal,33.92462481,11.91141556,38.2747022,2.910037917,460.0612774\\r\\nlinda90@yoder.org,\"979 Alison Motorway Apt. 676\\nNorth Frank, HI 55870-2651\",WhiteSmoke,33.4771904,12.488067,36.51838359,3.345570976,505.7711403\\r\\ndavid79@lopez-montes.com,\"969 William Manor\\nWest Sherry, MA 66282-2258\",Purple,32.11640012,12.38069498,37.23200331,3.089527782,463.4849954\\r\\nmicheleblanchard@lopez-greene.com,\"555 Hunt Track Suite 307\\nSouth Kristi, PA 73709\",SlateGray,32.2559012,10.48050683,37.33866962,4.514122441,479.7319376\\r\\npmercado@rodriguez.com,\"811 Maria Run\\nSanchezville, MI 04953\",LightPink,32.69239222,12.29651768,36.95155521,1.825884669,424.1854943\\r\\njames30@carter.biz,\"3604 Richard Junctions Suite 448\\nBrownburgh, CO 64856-8238\",LimeGreen,32.38473266,10.8616042,36.58443762,3.993656513,465.8893127\\r\\nparkerkayla@miles.com,\"170 Andrew Mews\\nNorth Susan, NM 85338-2426\",DarkSlateBlue,34.33872939,10.71635514,38.30720401,2.652158305,426.775216\\r\\nalicia85@lee.com,\"14220 Carla Flat Suite 521\\nLake Matthew, DE 06183\",DimGray,32.88710465,12.38718417,37.4311591,6.401228838,684.163431\\r\\ndominguezjacob@hotmail.com,\"8594 Erica Manors Apt. 529\\nLake Miguel, MH 10652-9266\",CornflowerBlue,32.51021799,10.98483589,37.39649748,5.391275125,555.8925954\\r\\nebrown@osborne.com,\"4291 Nichols Fork Apt. 562\\nThomaschester, SC 08938-8769\",DarkSlateGray,31.94539575,12.96576148,36.9663889,6.076653638,657.0199239\\r\\nnathan86@hotmail.com,\"748 Michael Plaza\\nWest Billyside, UT 20799\",MidnightBlue,36.13966249,12.05026723,36.95964319,3.864860739,595.8038189\\r\\naaron11@luna.com,\"672 Jesus Roads Apt. 443\\nThompsonland, WY 69228\",LightSkyBlue,32.44952156,13.45772494,37.23880567,2.941410754,503.9783791\\r\\nfsnow@ellis.com,\"0272 Jones Way\\nLake Angela, MP 97003-5793\",MediumBlue,32.29464155,12.44304789,37.32784804,5.084861309,586.1558702\\r\\nasilva@yahoo.com,\"USNV Johnson\\nFPO AP 19026\",Wheat,34.60331112,12.20729849,33.91384725,6.922689335,744.2218671\\r\\ncasey21@johnson.com,\"691 Johnson Field Apt. 510\\nMichaelville, VI 78140\",SpringGreen,33.59852032,11.58631953,39.09462703,3.60439856,512.8253581\\r\\ncampbellross@yahoo.com,\"6218 Michael Station Apt. 982\\nSalazarburgh, NJ 79955\",DarkRed,34.56868085,11.37808709,38.30447119,3.78493211,528.2238094\\r\\nblevinseric@stephens.com,\"PSC 3676, Box 1549\\nAPO AE 26130-7683\",Orange,32.83810016,12.3643416,38.03910939,3.309182328,468.9135013\\r\\nstevenking@patterson.com,\"94730 Martin Mount\\nNew Matthew, VI 08142-6708\",LightGray,33.50370518,12.39943608,35.01280603,0.968622116,357.5914394\\r\\nsamuel94@hotmail.com,\"5480 Vazquez Crossing Suite 825\\nEast Christopherland, PA 42104\",DarkViolet,33.30188161,12.54248105,38.3113649,3.768561963,536.4231045\\r\\njohnsonpaul@keller-woodard.org,\"USCGC Dodson\\nFPO AA 87781-3935\",LimeGreen,30.87948434,13.28043224,36.93615938,3.585160635,490.2066\\r\\ntwilliams@gibbs.net,\"Unit 6678 Box 6628\\nDPO AP 44369\",CadetBlue,33.15425476,11.79588668,37.65861691,4.520353377,550.0475806\\r\\nteresapacheco@salinas.biz,\"75805 Larry Mills\\nEast Cristian, MH 53820\",DarkMagenta,32.04780098,12.71803917,37.66110668,3.6758488,513.4505712\\r\\nallison80@carson-hansen.com,\"04311 Oconnor Park Apt. 415\\nKelleystad, ND 63064-8935\",ForestGreen,33.63080077,12.03964784,38.92408705,2.873007509,497.81193\\r\\nturnerryan@hotmail.com,\"770 Lewis Pike Apt. 869\\nPhelpsport, PA 93969-4887\",LightSkyBlue,34.04663803,12.47445545,35.03785616,4.055775962,578.9862586\\r\\nwalkererica@scott.com,\"86536 Barnes Track\\nSouth Kyle, MT 21570-5606\",MediumAquaMarine,33.644177,13.16002004,36.40774745,3.015175299,506.5363931\\r\\nmark94@yahoo.com,\"586 Timothy Union Suite 592\\nEast Joseph, MO 81374\",Salmon,32.65462161,11.05232365,37.63300942,4.717102513,501.7492333\\r\\ndaniellecuevas@hotmail.com,\"9287 Daniel Rest Apt. 608\\nAllentown, SD 73050\",LavenderBlush,33.42874704,10.63676108,37.57883524,2.926396449,421.9667942\\r\\ngbarnes@gmail.com,\"8667 Suzanne Motorway Suite 241\\nSpencechester, KY 74385-4618\",Green,31.86483255,13.44340599,36.87831537,2.361086947,439.8912805\\r\\ncody68@hotmail.com,\"374 Dana Junctions\\nLangside, WI 36474\",SpringGreen,34.48238805,13.28303287,35.90729843,4.968742674,666.1255917\\r\\nfischermonica@gmail.com,\"9847 Michael Plaza Suite 837\\nLake Christophershire, NV 87324-8427\",Navy,32.52976873,11.7477317,36.93988205,0.80151572,298.7620079\\r\\nbrenda25@gmail.com,\"353 Jones Loaf Apt. 767\\nSouth Michaelburgh, PR 16281-4840\",OliveDrab,33.4322314,10.85960853,38.83567008,3.669225611,465.1766233\\r\\ndavid58@yahoo.com,\"6058 Thomas Divide\\nMatthewland, PA 89442-8198\",LightSalmon,33.30857162,11.69168613,37.48091198,1.715777167,373.8857237\\r\\nclifford76@johnson.com,\"8032 Hodge Circle Apt. 255\\nLake Jessicashire, OR 54914\",RosyBrown,32.33263707,11.54876144,38.57651555,4.773503047,532.7174857\\r\\njacquelinehughes@bennett-branch.info,\"601 Ashley Loop Suite 162\\nPort Benjaminview, DE 02456\",DeepPink,34.71345123,11.72400223,36.81385766,4.087837273,554.900783\\r\\nvictoria53@hotmail.com,\"16329 Sara Neck Apt. 463\\nBryanside, TX 62329\",Pink,32.635878,12.17857308,35.67425603,4.13175504,537.7731625\\r\\ncunninghamkyle@ellis-parker.org,\"449 Williamson Lakes Apt. 118\\nTravisville, AK 06848-0177\",LightGreen,33.07570303,12.31984506,37.81915511,3.442799202,501.1002452\\r\\njjones@yahoo.com,\"047 Carla Locks\\nCoreymouth, AR 98066\",GreenYellow,32.23014912,11.08436084,37.95968432,4.72402744,517.1651356\\r\\nmichaelferguson@torres-miles.net,\"757 Amber Gateway Apt. 787\\nNew Stephaniechester, OR 61576-6056\",Sienna,34.14286337,13.17777453,38.85604171,3.230973843,557.5292736\\r\\ncrawforderik@price.org,\"5183 Michael Ramp\\nEast Lukeburgh, FL 93972\",DarkKhaki,32.49719846,12.83280284,37.67924462,2.972271382,493.719193\\r\\njlawson@mccarthy.com,\"0127 Morgan Fields Apt. 080\\nThompsonfurt, ME 01160-7043\",LightGray,33.12239998,11.509048,37.25305774,3.182329732,452.1226251\\r\\nmarshchristopher@zimmerman-villegas.com,\"667 Stephanie Lake Apt. 658\\nMarthashire, NC 11815-2307\",DarkRed,33.08852937,11.85766344,36.08693433,4.806349619,577.273455\\r\\noolson@collins.com,\"07867 Horn Lake\\nWest Teresatown, VT 64387-1228\",Aqua,32.53379686,12.29336584,37.0646212,3.620364988,485.9231305\\r\\nisaiahcampbell@yahoo.com,\"55414 Ramirez Union Apt. 614\\nWest Crystal, CA 03845-2631\",Red,32.48426048,10.93325228,36.54550623,3.261324745,425.745092\\r\\nkcannon@alvarez-cline.info,\"55479 Peters Field Apt. 702\\nNorth Micheleberg, PR 45063\",Lavender,32.54345917,13.33283928,37.96439033,3.597459969,537.2150527\\r\\nnielsencarmen@harrell.net,\"2491 Yates Crest Suite 316\\nConnieville, FL 92080-0819\",DeepPink,32.28312306,10.90255623,36.09424195,4.789201624,524.6379646\\r\\nefreeman@moore.com,\"223 Powell Ridges\\nEast Richardtown, RI 90715-2178\",White,32.20079864,12.27698171,38.23260623,3.316464745,478.8853913\\r\\nroblessarah@hotmail.com,\"022 Taylor Mews Suite 692\\nHallberg, NJ 53614\",MediumSeaGreen,34.71331651,12.03880824,37.63529941,4.632460946,612.3852299\\r\\nchristopherhaas@gmail.com,\"56674 Melanie Flats\\nSchneiderberg, IN 66532\",MediumPurple,32.71251233,11.72447386,37.1531516,3.308443001,476.7667242\\r\\nethomas@yahoo.com,\"1279 Douglas Mountains\\nPort Christopherberg, RI 32811-8325\",LightGreen,33.69489765,11.2026699,35.49396408,4.01598664,505.1196375\\r\\nwevans@gmail.com,\"222 Jason Park\\nDominguezshire, NC 98241\",Tan,31.57020083,13.37806333,36.33780003,4.369366794,545.9454921\\r\\npatrickorr@yahoo.com,\"6009 Heather Park\\nHowardhaven, SD 51705-2993\",LawnGreen,33.45947685,11.38861262,37.90913872,2.566639844,434.0216998\\r\\nmary84@edwards.com,\"19123 Craig Isle Apt. 719\\nMillsmouth, SC 94194\",LightSkyBlue,31.8209982,10.77107406,37.27863979,3.519032434,424.675281\\r\\nlongwilliam@gmail.com,\"16068 Kelly Parks\\nWrightside, NH 21447\",BurlyWood,32.73322416,11.81857176,37.10203133,1.503854421,352.5501082\\r\\nlisagutierrez@johnson-herring.net,\"89300 Amber Centers Apt. 879\\nVictoriaton, VT 98394\",Peru,32.4071483,13.80879868,37.42676892,5.039955264,662.9610878\\r\\ndavid81@hotmail.com,\"1576 Lane Shoal\\nRogerton, PR 63867-3426\",Thistle,33.50609228,11.65983284,37.28139283,4.478712608,560.5601606\\r\\njacksonking@mccormick.com,\"120 Micheal Fort Apt. 762\\nEast Patrickbury, WY 65946\",DarkMagenta,30.83643267,13.10010954,35.90772143,3.361612985,467.5019004\\r\\njessica04@christian-riley.com,\"338 Graham Loaf Suite 236\\nEast Toddton, FM 43566-4238\",LemonChiffon,34.87849495,13.06789568,36.67822227,1.920715478,504.8704324\\r\\nsimmonsmartin@hardy.com,\"2302 Joshua Park\\nMillerbury, WA 30239-8144\",MediumVioletRed,34.00721197,12.49432293,36.04545942,4.330714462,590.5627196\\r\\nmichellejohnson@sanders-rodriguez.com,\"70562 Gonzalez Stravenue\\nElizabethland, WI 40700-9149\",Teal,31.52575242,11.34003593,37.03951365,3.811248171,443.9656268\\r\\ntylerhernandez@barton.info,\"7613 Miguel Knoll Suite 762\\nWest Katherine, WV 19406\",SlateGray,31.04722214,11.19966096,38.6887091,3.088763958,392.4973992\\r\\nconnerjoseph@gmail.com,\"981 David Square\\nNew Jacquelinetown, AK 66018-4092\",Turquoise,34.59577669,11.33248778,35.4598628,4.541695257,568.7175759\\r\\njeffrey54@mcdonald-williams.com,\"297 Francis Valley\\nSouth Lindsey, NY 13669-5367\",Gainsboro,34.96760989,13.9194944,37.95201319,5.066696864,712.3963268\\r\\nhevans@kelly-nunez.org,\"Unit 4065 Box 2267\\nDPO AE 69180-7372\",Orchid,32.29524763,11.03135834,38.25297827,3.107468683,413.2959992\\r\\nlewiskendra@yahoo.com,\"988 Matthew Plaza\\nLake Jacobshire, AL 37889\",Yellow,33.32424052,11.08458409,36.77601658,4.746989703,562.0820454\\r\\nfreemantina@cannon.org,\"870 Dennis Throughway\\nWilsonport, PW 12658\",AntiqueWhite,32.90345433,10.54264542,35.5338635,3.09182687,412.0129313\\r\\nwagnerbrian@hotmail.com,\"50593 Wells Roads Apt. 110\\nSouth Amy, MI 06969-2026\",AliceBlue,32.55949313,11.79779551,37.7773658,3.195625776,468.6684656\\r\\nmelissa08@nelson.com,\"15863 Harrington Glens Suite 012\\nMarystad, LA 50652-8210\",Tomato,31.76561882,12.44261655,38.13171203,3.850279639,496.5540816\\r\\nkarina59@gmail.com,\"9580 Clark Trail Suite 687\\nWilliamsside, FM 57367\",PapayaWhip,34.0816462,12.10454243,36.05964598,3.97452248,548.5185293\\r\\nbaldwinbryan@estrada-silva.biz,\"1470 Kathleen Pass\\nSouth Christopherberg, SD 22850\",MediumSeaGreen,33.30443129,12.37849022,38.76429717,3.843848921,536.1308969\\r\\naudreyguerrero@carey.com,\"1995 Susan Locks Suite 760\\nEast Cheryl, AR 37103-5176\",BlueViolet,34.33075044,13.72245368,35.77311639,2.90900846,558.4272572\\r\\ndrew29@hotmail.com,\"20888 Erin Via\\nGrahamville, NH 72913-6101\",Tomato,32.07894758,12.72590932,36.5446641,1.139093538,357.8637186\\r\\nmichael00@yahoo.com,\"03065 Henry Courts Suite 443\\nDerekstad, VT 88473\",DarkSlateGray,33.605799,13.6851189,34.89198327,2.685284836,529.0566632\\r\\njgray@khan-allen.com,\"1416 Rachel Crescent\\nWest Laurieside, IL 81119-7229\",Gold,32.74515048,10.01258337,38.35495987,3.108911449,387.3570727\\r\\nbushsusan@hotmail.com,\"20618 David Square\\nGayland, HI 78719-9628\",Moccasin,32.1223648,11.43553387,36.22355746,4.852842407,528.9336186\\r\\ncharris@gmail.com,\"2781 Matthew Wells Apt. 569\\nPotterview, KS 50763-8282\",MediumSeaGreen,32.53082944,12.35460708,37.12234521,2.307552421,420.9161595\\r\\nlongphillip@yahoo.com,\"13044 Woods Heights\\nAndreamouth, ND 52317-6007\",LightGreen,31.73663569,10.74853366,35.73870747,4.835528667,496.9334463\\r\\nmadisonalexander@gmail.com,\"791 Allen Trafficway Suite 776\\nChristopherland, DC 41460\",Orange,34.11756669,11.59187167,37.7436197,3.678589399,519.3729768\\r\\nmfoster@brown-white.com,\"36192 Ho Spring\\nNew Michael, RI 65851-6369\",Cyan,33.63662446,11.23650676,37.67502073,5.254708926,591.4377356\\r\\nsanchezkara@hotmail.com,\"40494 Robert Park\\nHeatherside, IL 70364\",SlateBlue,34.33486453,11.10945633,38.58585476,3.89289148,502.4097853\\r\\nfloresbradley@hotmail.com,\"446 Daniel Rest Suite 644\\nPort Matthewhaven, MN 89465\",BlanchedAlmond,34.81498394,12.11494496,36.28872395,4.389455226,604.3348401\\r\\nlamryan@curtis-garcia.net,\"96393 Joshua Rapids\\nJonesview, VA 58733\",LavenderBlush,34.64266976,11.86648121,37.71777057,4.003325039,555.0683941\\r\\nalexandra26@summers-davis.com,\"Unit 7032 Box 7016\\nDPO AE 44749-2992\",Navy,32.83694077,10.25654903,36.14390846,0.789519908,256.6705823\\r\\nocortez@gmail.com,\"4800 Ashley Spur Apt. 347\\nDannyfort, GA 23352\",MediumBlue,32.29964716,12.16859647,37.07361617,4.403369831,547.1109824\\r\\nmelinda39@morton.info,\"13693 Cox Falls Apt. 693\\nPadillaview, PW 28998-0386\",Moccasin,31.94801742,13.08535689,37.6056528,2.64859677,461.9208769\\r\\nlisa94@jackson.com,\"40288 Stephens Corner Apt. 221\\nWest Stephanie, OK 55617-4332\",CadetBlue,32.7273192,13.01337563,36.65127792,2.367848224,458.3769107\\r\\nlucastaylor@yahoo.com,\"63872 Chavez Lodge\\nDanielton, NJ 85847\",MediumTurquoise,33.94624062,10.98397673,37.95148946,3.050712973,436.2834981\\r\\napark@walsh-obrien.net,\"28942 Bradford Crescent\\nNew Morganfurt, MD 77162-0478\",DarkGreen,32.35147815,13.10515852,35.57484167,3.641497162,532.9352188\\r\\ndominguezmaria@gmail.com,\"1768 Rosales Ford Apt. 793\\nLake Markbury, SC 31567\",RoyalBlue,34.17375202,12.14474854,37.25803146,3.397363093,512.5525344\\r\\njimmy11@hardin.com,\"496 Bush Turnpike Apt. 674\\nDonnabury, OR 32596-0079\",DarkGoldenRod,32.97518183,13.90991551,37.79223754,4.297686524,630.4227632\\r\\npatriciajackson@jenkins.info,\"981 Matthew Valley Apt. 621\\nLake Tracyburgh, NM 33288-1364\",Thistle,32.00475302,11.39520943,37.33281446,3.803364999,463.7459811\\r\\nrayvanessa@fischer.com,\"2583 Mark Springs\\nLake Robert, AL 40928\",White,34.19705969,13.03356618,37.07679516,2.633419989,493.1802162\\r\\ngharrison@davis.com,\"04140 Cameron Brooks Apt. 724\\nSouth Laurenberg, HI 08562\",MediumSpringGreen,33.17720467,11.62277717,35.96889569,3.634093727,501.2091727\\r\\nalexandermichael@hotmail.com,\"2086 Lisa View\\nOrtegabury, MI 43544\",WhiteSmoke,32.69323954,12.6007504,37.37011822,3.467014066,501.9282649\\r\\nchristopher66@hotmail.com,\"388 Kelly Pike\\nWest Jeffery, DE 44039-7785\",BurlyWood,31.62536013,13.18791099,37.06708997,1.494310895,376.3369008\\r\\narcheremily@baldwin.com,\"USCGC Hernandez\\nFPO AE 53064\",YellowGreen,31.26064687,13.26676035,36.9711951,2.267251114,421.3266313\\r\\nhornesteven@gmail.com,\"91425 Roy Trail\\nRivaston, NE 34949-2588\",White,31.7207699,11.75234317,38.57360523,5.023934201,538.7749335\\r\\nwilliam28@gmail.com,\"16763 Melissa Creek Suite 367\\nNorth Keithland, PW 29458\",Cyan,32.92261076,11.56811634,36.90937821,2.47175067,398.1634685\\r\\nkarenosborne@yahoo.com,\"81814 Pratt Squares Suite 460\\nNorth Robert, GU 77741-1307\",SlateBlue,32.68624509,12.63857212,36.09722093,4.297737482,571.4710341\\r\\nchansen@holt.com,\"2380 Fisher Neck Suite 233\\nBrianland, AZ 34453-0625\",LightSkyBlue,34.05094676,11.38864458,39.08156475,2.436958876,451.6286105\\r\\nhallthomas@lane.com,\"22630 Bell Centers Suite 030\\nNorth Danielport, FM 31756\",DarkTurquoise,32.45455254,11.8229833,36.94612578,3.656983927,490.6004425\\r\\ntaylorkimberly@yahoo.com,\"0030 Mathis Square Suite 154\\nSouth Jadehaven, AR 33997-4450\",Gainsboro,31.28344748,12.72567737,35.96566746,5.000243361,591.7810894\\r\\nclester@yahoo.com,\"76778 Underwood Knoll\\nNew Gregory, ID 57323\",LightCyan,32.9800292,11.20115977,37.68933698,2.412830961,409.0704721\\r\\npvega@hotmail.com,\"61629 Johnson Underpass\\nNew Eric, MI 92352-5044\",LightCoral,31.90962683,11.34726361,36.32365247,5.314354141,563.4460357\\r\\nvmartin@yahoo.com,\"30242 Rubio Forest\\nPort Kyleland, VA 18339-5779\",Turquoise,34.40240965,14.22097911,37.52319665,4.077775098,647.6194557\\r\\nandreperez@hotmail.com,\"17463 George Ports\\nEast Julianborough, WY 68291\",DarkOliveGreen,32.95976431,11.54627576,36.94795369,3.275070681,448.340425\\r\\nanntaylor@hotmail.com,\"PSC 1634, Box 8167\\nAPO AA 49814\",Teal,33.78015676,11.91763618,36.84473382,3.634996006,518.7864831\\r\\nhickmanelizabeth@yahoo.com,\"12641 Greer Track Apt. 183\\nNorth Mitchell, IA 77991-6276\",DeepPink,32.67294353,12.27605698,37.19279353,3.982471513,523.6339351\\r\\nhalljohn@yahoo.com,\"311 Savannah Ramp Suite 245\\nCarlsonbury, LA 08453-6035\",MediumTurquoise,32.72852076,10.13171246,34.84561239,3.287701824,393.857371\\r\\ncohensean@yahoo.com,\"3751 Green Loaf\\nNew Julia, VT 20897\",DarkCyan,33.40992259,12.02694222,36.13389429,2.313349885,426.1545477\\r\\njmartinez@anderson.org,\"14889 Page Prairie\\nDennisville, NV 27982-4210\",PeachPuff,31.72420252,13.1722875,36.19975347,3.557813698,503.3878873\\r\\ncbrady@gonzalez-miller.com,\"193 Ashley Plaza Suite 706\\nHernandezport, WV 71270-7338\",Aqua,32.7111193,12.32629139,36.67387836,3.350279288,482.6024673\\r\\npkline@hotmail.com,\"PSC 6338, Box 7637\\nAPO AA 22066\",MediumTurquoise,33.13665525,13.89131342,39.22071295,2.907094935,524.7976276\\r\\nmartha91@garrison.net,\"360 Albert Spring\\nSouth Tylerbury, VA 92641-9077\",HotPink,34.37939438,12.93092854,36.3602472,3.792711955,574.6548434\\r\\nmaureenlopez@gmail.com,\"82537 Alice Centers\\nGregland, OR 71749\",SeaShell,35.53090415,11.37925718,36.63610412,4.029453828,574.7472197\\r\\nrussellbaldwin@ferrell.info,\"295 Michael Keys Apt. 706\\nEricfurt, KS 09476\",Orange,33.24726795,14.06938234,38.99332245,4.978475793,660.4251843\\r\\namandastanley@yahoo.com,\"38528 Jerry Valleys Suite 027\\nJonesstad, NY 74787-2691\",CadetBlue,32.09610899,10.80489056,37.37276215,2.699562055,375.3984554\\r\\ngeorge02@hotmail.com,\"3286 Lynch Field\\nHenrychester, RI 41833-7902\",LightCoral,35.03928306,14.42649105,37.3741835,3.930615327,640.18774\\r\\nswilliams@ball-arroyo.com,\"450 Samantha Valleys\\nCollinsborough, KS 37205-9891\",Orchid,32.55052657,13.04124459,36.65520808,3.456233824,514.0098178\\r\\ntaylorjared@foster.net,\"601 Mitchell Estates Suite 922\\nPort Daniel, WV 83595\",Crimson,32.58249357,11.7397438,36.85481082,2.18201697,376.4968407\\r\\nkeith13@yahoo.com,\"81830 Katie Squares\\nPort Austinland, FL 73522-0761\",LightGoldenRodYellow,33.29698192,12.49105874,38.23894085,2.709526627,484.5198091\\r\\nschmidtdenise@hotmail.com,\"06392 Matthew Viaduct Suite 000\\nLake Ronald, NY 45787-0181\",DarkGoldenRod,33.10833615,12.89237451,36.5273883,4.594116865,614.7296376\\r\\njasmin20@salas.com,\"634 Nancy Shoals Suite 241\\nSouth Barry, AR 52307\",HotPink,33.90271779,11.66886651,37.34126616,4.25698329,567.4750105\\r\\nchristophermorrison@mcguire-carter.biz,\"90089 Eric Well\\nNicoleside, MT 95918\",Blue,34.55528259,11.77777204,37.97982686,3.784273087,554.0030934\\r\\ndeborah51@yahoo.com,\"4190 Shelton Harbors\\nNorth Christopher, RI 60962\",Violet,33.73264839,12.13879388,36.85388246,1.623419609,399.9838716\\r\\nmelindahartman@gmail.com,\"3761 Jared Mountain\\nNicholasport, WY 51181\",Pink,31.6005122,12.22296745,36.82275323,3.41450624,479.1728515\\r\\nsharper@yahoo.com,\"239 Bush Fall Apt. 906\\nRiveraville, KY 88906-3319\",SandyBrown,34.31892744,13.4023319,37.29204471,3.606086889,585.9318443\\r\\njessicabrewer@simmons.net,\"5052 Mccoy Passage Apt. 328\\nTeresaport, FM 97139\",LightBlue,34.00648892,12.95627661,38.65509454,3.275733705,540.9957391\\r\\nbeckycarson@jones-brown.biz,\"78787 Mitchell Lights\\nMatthewville, AZ 30310-0130\",Gold,33.54047906,12.88412462,36.22604169,5.007271987,628.0478039\\r\\njennifer24@hotmail.com,\"46954 Melissa Corner\\nNorth Amanda, LA 34844\",SteelBlue,34.43642584,13.3254691,36.76860309,3.371258113,582.4919237\\r\\njeremy00@yahoo.com,\"45442 Barber Key Apt. 882\\nSouth Jaclyn, NM 24367-3001\",FloralWhite,33.55169914,12.15858523,36.57513378,5.453969475,640.7861664\\r\\nwellsjuan@schroeder.com,\"0338 Francis Junction\\nLake Alexstad, NH 14302\",Green,31.81861657,11.22654566,35.66993517,3.755869389,446.4186734\\r\\ngregorystewart@hotmail.com,\"232 John Haven Suite 456\\nJohnsonhaven, VT 90106-0173\",PaleGoldenRod,32.36312129,12.46113544,37.74560774,4.664258497,570.6300981\\r\\ntammyjones@griffin.com,\"0859 Audrey Isle\\nSouth Zachary, AS 09138\",Navy,33.19157088,9.846124909,36.87631323,3.806670949,423.3083341\\r\\ndjohnson@hotmail.com,\"5358 Stephen Parkway Suite 894\\nKimview, MN 17436-4528\",Coral,32.19249883,13.32541219,36.89729461,5.049927475,616.660286\\r\\nkenneth27@smith.com,\"721 Robert Viaduct Apt. 052\\nLake Olivia, MO 93807\",DarkGreen,32.60790272,13.67724584,37.7446997,2.871947536,530.3624689\\r\\njohnathan33@yahoo.com,\"836 Amy Villages\\nHannahside, RI 09207-2616\",LightSteelBlue,32.26200311,11.64496955,37.02687697,3.236732814,442.3631174\\r\\ncarrillojacob@perry-larsen.com,\"909 Hicks Mountains\\nGabriellaport, MD 33121\",Aquamarine,32.27184828,13.48500899,37.55088041,3.086337272,511.97986\\r\\ngreenelizabeth@edwards.com,\"54051 Jenkins View\\nEast Danielshire, IN 32905-7784\",DarkViolet,33.79512493,11.62099651,38.41946853,4.559699083,560.4437922\\r\\ndenisemorrow@johnson-james.net,\"24458 Hudson Square\\nHallside, PA 68038\",MediumSpringGreen,31.65480968,13.01445915,37.78903635,3.010209778,475.2634237\\r\\nwandaphillips@leonard.com,\"149 Monica Vista Apt. 908\\nJasonberg, TX 19632-8886\",OliveDrab,33.07773079,11.46698422,35.67572763,1.809229592,374.2696745\\r\\nzachary94@gmail.com,\"99902 Scott Road\\nJoyton, MT 46760-7400\",Purple,31.3123496,11.68490419,38.7170763,3.5942951,463.591418\\r\\nppowell@gmail.com,\"74260 Carly Mews Suite 703\\nJonesberg, OR 39594\",BlueViolet,32.87273861,12.09396636,36.62077386,3.049195744,471.6028844\\r\\nbhill@pierce-kane.info,\"3324 Branch Squares Suite 221\\nRiddleton, OK 34594\",RoyalBlue,33.70815341,14.32565494,35.72182733,3.634340224,626.0186727\\r\\nmatthewgraves@mills-shaffer.com,\"66636 Jason Parkway\\nKellyside, NV 67033\",DarkSeaGreen,33.90856503,12.91484663,39.06886445,1.482359644,432.4720613\\r\\nnwagner@yahoo.com,\"Unit 2079 Box 7792\\nDPO AP 47668\",AntiqueWhite,32.31290975,9.82440177,35.74277913,2.921350141,356.6155679\\r\\njamesfaulkner@hoffman-wolfe.org,\"Unit 0474 Box 0661\\nDPO AP 48938-3469\",Blue,34.39432665,12.80775183,38.55103029,1.810079876,467.4278485\\r\\nphillipscarrie@gmail.com,\"625 Andrew Locks\\nMadisonside, AZ 74068\",FloralWhite,32.42330473,13.05827793,37.26387556,3.373104674,503.2173931\\r\\nsamantha84@cortez.com,\"960 Miller Union\\nEast Virginiastad, MS 74191-2346\",Navy,33.53939635,10.5345535,37.03479129,2.214797519,378.4735664\\r\\nedward29@knapp.com,\"4029 Gerald Cape\\nSouth Laurenborough, SC 19130-5133\",DarkOrange,33.37401693,11.14343308,35.94639915,5.454463278,584.2183135\\r\\nhannahgilbert@gmail.com,\"6961 Mary Stravenue Suite 857\\nHilltown, TX 52813-7703\",Aqua,33.79475594,10.98280553,34.81063145,3.201801722,451.7278633\\r\\nlschroeder@gmail.com,\"93101 Shannon Common\\nSouth Destiny, ND 30379-2855\",Ivory,33.7709001,11.15396605,37.24032955,4.729484542,557.634109\\r\\nthomaswendy@yahoo.com,\"449 Amanda Tunnel\\nJoshuahaven, CO 15377\",LavenderBlush,31.30919264,11.94717532,36.19083324,3.205529765,432.7207178\\r\\nfuenteskathryn@schmidt-johnson.org,\"839 Heather Cliff\\nSouth Blake, SC 90412\",Cyan,33.61256335,11.470565,37.06168877,3.802511439,506.42386\\r\\nmelissa08@rowe.net,\"13799 Cortez Inlet Suite 733\\nEast Stevenshire, AL 32757\",Tan,33.39826013,11.03785041,38.61733445,4.116340467,510.1598173\\r\\nbradleysmith@barber.com,\"581 Gilmore Port\\nHeatherville, MS 20879\",PaleVioletRed,33.62259184,11.1673569,35.62658733,5.462500764,587.5747995\\r\\nmorganorozco@hotmail.com,\"0001 Mack Mill\\nNorth Jennifer, NE 42021-5936\",LightPink,30.4925367,11.56293625,35.97656497,1.481616627,282.4712457\\r\\njohnsonhannah@gmail.com,\"634 Robert Hill Apt. 800\\nCoxtown, OK 32430\",Thistle,31.90485713,12.22772828,36.98591348,3.771420132,473.9498574\\r\\njavier02@landry.net,\"Unit 7029 Box 3429\\nDPO AE 56975\",CadetBlue,33.02642035,13.18681287,38.0669296,2.898299578,489.9080531\\r\\nlmalone@gmail.com,\"USS Beasley\\nFPO AP 50556-7615\",AntiqueWhite,32.9751929,13.39445179,37.80697767,3.569046516,541.9722038\\r\\nbrandon77@richardson.com,\"109 Jessica Manor\\nNorth Patriciashire, PR 84726\",GhostWhite,30.81620065,11.85139874,36.92504304,1.084585303,266.0863409\\r\\nbhamilton@shaw.biz,\"036 Mary Drive Apt. 581\\nPort Brandytown, FL 66143\",DarkOrchid,33.91401512,12.26650384,36.57503098,3.023474446,494.6871558\\r\\nrandyrobinson@hotmail.com,\"14548 Hayes Isle Apt. 436\\nGarciaville, IN 65366\",DarkGray,33.30267221,13.45922229,36.33952101,5.566384892,689.7876042\\r\\necruz@yahoo.com,\"08111 Barry Highway\\nBentonberg, GU 13706\",Gainsboro,31.91207593,11.79297182,36.25781912,2.39516813,387.5347163\\r\\nwrightdanielle@gmail.com,\"508 May Highway\\nPort Jacobview, MN 31932\",DarkSalmon,32.40855896,10.98574015,37.36839124,3.504833486,441.8966315\\r\\ndeandanny@yahoo.com,\"9781 Lopez Spurs Apt. 300\\nFitzgeraldborough, MA 89035-4317\",Ivory,32.64461691,12.63755716,36.51708576,5.226687713,604.8413188\\r\\ndblair@gmail.com,\"190 Kelley Burg\\nWest Juliaport, IA 35826-8163\",MediumSlateBlue,34.10227851,8.508152176,35.46240008,1.838210702,302.1895478\\r\\nveronicapruitt@hotmail.com,\"Unit 7502 Box 8345\\nDPO AE 53747\",Cyan,33.2485062,11.65659203,36.54860515,3.363411394,479.6148117\\r\\ndavischristina@hotmail.com,\"49352 Avila Terrace Suite 624\\nAmandaland, GA 99736\",SeaGreen,34.72908017,11.96689808,36.54759628,2.957448757,506.1323424\\r\\ndouglasdunlap@boone-rose.com,\"093 Larson Ports\\nWest Kathryn, OK 91243\",Purple,30.39318454,11.80298578,36.31576315,2.083814192,319.9288698\\r\\ndavid28@wallace-hill.org,\"43382 Heather Meadows\\nNew Lisaburgh, WI 19151-0302\",LightBlue,33.38411057,12.67740144,35.62253059,3.680847338,528.309225\\r\\nwilliammoore@rose.com,\"686 Baker Fords Suite 893\\nEast John, IL 50171-9547\",Brown,32.87847437,13.03253498,37.87095205,4.693732058,610.1280331\\r\\nangela25@walker.com,\"456 Eric Views\\nNorth Amanda, MS 98876-3102\",Chocolate,34.50141785,12.44761745,37.53453024,4.008352235,584.105885\\r\\narice@reynolds.info,\"740 Marshall Squares\\nDavidbury, AL 94251-0846\",Thistle,33.56647439,12.23565925,37.27757338,2.532044062,466.4211988\\r\\nadam75@gmail.com,\"9991 Macdonald Squares\\nVasquezborough, WY 73586-4597\",Purple,32.84879283,10.97316208,36.60950715,2.87098691,404.8245289\\r\\ncharlesgutierrez@hotmail.com,\"363 Kathleen Underpass\\nAshleyside, PR 98964\",MistyRose,33.53186013,13.66576979,36.90022076,3.515688256,564.790969\\r\\ncodyandrews@hotmail.com,\"63010 Reyes Creek Apt. 569\\nWest Catherinetown, MN 67491-6816\",Indigo,33.41906735,13.39112018,37.19419105,4.069916619,596.516698\\r\\nwheelernancy@hernandez.com,\"66340 Michael Lane Suite 878\\nWest Brian, LA 69137-1147\",Gold,32.49541877,12.96832561,38.29611037,1.200483857,368.6547849\\r\\ndrew27@ryan-thompson.com,\"4475 Lopez Stravenue Apt. 690\\nSmithchester, NV 84347\",PeachPuff,33.67402748,12.96889313,37.33310742,3.229450904,542.4124767\\r\\nsuzanne63@gmail.com,\"229 Eric Mountains\\nNew Caleb, PA 00396\",LightSalmon,33.26463207,10.73213134,36.14579171,4.086566338,478.2621264\\r\\nmitchellscott@gmail.com,\"3976 Tom Streets Suite 438\\nPort Davidtown, AL 55334-2369\",DarkOrange,32.76245596,10.95235338,37.64629179,4.019470352,473.3604956\\r\\nlaurajimenez@gmail.com,\"06103 Erik Fields Suite 781\\nJonesmouth, GA 49931-3078\",SlateBlue,33.4794716,12.60888879,37.22939452,4.20590389,559.199048\\r\\nrogersheather@hamilton-jensen.org,\"510 Michele Port\\nEast Angela, HI 23618\",MintCream,33.78520721,13.03951103,36.31272657,2.018194629,447.1876443\\r\\nievans@hotmail.com,\"2064 Poole Groves\\nNorth Chrisland, SC 78169\",NavajoWhite,33.21718784,10.99968366,38.44276669,4.243812817,505.2300683\\r\\njohn85@rodriguez.info,\"57120 Frank Keys\\nJerryborough, DC 81028-0939\",Tomato,31.12809005,13.27895623,37.38718053,4.626075292,557.2526867\\r\\nphillipsmark@byrd.net,\"6734 Perez Trafficway Suite 395\\nNunezland, NC 83245\",DarkSeaGreen,33.36951736,10.62794923,38.04031367,3.002957023,422.3687366\\r\\nelizabeth61@berg-braun.com,\"649 King Extension\\nNorth April, NY 54175\",Lavender,32.83789305,13.18518117,35.92159519,1.823595183,445.0621855\\r\\ndbenson@simpson.net,\"732 Heather Place\\nNorth Michael, VT 92527\",DodgerBlue,30.57436368,11.35104901,37.08884658,4.078308002,442.0644138\\r\\nstephaniehill@hotmail.com,\"8248 Parker Overpass Apt. 024\\nLake Pamela, WY 44322-1735\",Wheat,32.27459383,12.95481145,37.10881638,3.689916615,533.0400602\\r\\ndavisbriana@gmail.com,\"15298 Erickson Shore Apt. 056\\nSouth Patrickfort, MD 16503-3145\",MediumVioletRed,33.144234,11.73704064,37.93518905,2.190132185,424.2028271\\r\\nkday@gmail.com,\"4835 Jessica Walk Suite 205\\nWest Jacob, NH 93681\",Magenta,33.48551976,11.8873453,35.86244708,3.206756698,498.6355985\\r\\njonathanconner@morales.biz,\"920 Anderson Extensions\\nGreenfurt, GA 19316-3498\",SeaShell,31.97648006,10.75713093,36.59586795,1.977007128,330.594446\\r\\nanneingram@miller-alexander.com,\"4301 Park Lake Apt. 158\\nSpencertown, SD 45934\",HoneyDew,32.13386241,11.61265077,39.2488039,3.349245383,443.4418601\\r\\njeffery48@mcguire.com,\"52326 Townsend Centers\\nLake Williamburgh, NJ 70568-7463\",LightCyan,32.3025531,11.97906148,38.26906069,3.53286158,478.6009159\\r\\ntheresamitchell@martin-chambers.biz,\"157 Linda Roads\\nNew Jimmyshire, MH 51942\",Khaki,31.82797906,12.46114744,37.42899737,2.974736815,440.0027475\\r\\nchristianwade@butler.info,\"3687 Sarah Ranch Suite 919\\nGainesfort, AK 05665\",Crimson,32.01807401,10.07946345,38.07066426,2.61816531,357.7831107\\r\\ntina16@santiago.com,\"314 Kidd Run\\nJohnfort, KS 46546-2732\",White,32.997459,12.58924056,37.33224075,2.804013693,476.1392469\\r\\nvancealicia@hotmail.com,\"06307 Scott Spurs Suite 161\\nJessicaburgh, NH 26093-5908\",RoyalBlue,31.81642833,14.28801459,36.77386137,2.964497876,501.1224915\\r\\ndbell@hotmail.com,\"3485 Anthony Street Apt. 119\\nMikeberg, FL 32602\",DarkViolet,34.46151474,11.9171157,37.76668677,4.350887844,592.6884532\\r\\npamelahampton@martin-cobb.com,\"91542 Jessica Springs Suite 255\\nThomashaven, MT 39239-3790\",DarkSeaGreen,32.34279623,11.40964462,35.77778217,3.872432042,486.0834255\\r\\nmark81@wagner.com,\"410 Gonzalez Corners Apt. 187\\nEast Stephenport, VT 22771\",Navy,32.30274837,12.81539265,37.95780983,4.615426307,576.0252441\\r\\nawerner@manning.com,\"407 Blake Ways\\nPort Davidland, WA 78438\",Gray,33.06644066,11.67322925,37.84065508,2.727209454,442.7228916\\r\\nrobertramirez@kaiser.com,\"1583 Anderson Coves\\nEast Rebecca, NH 27212\",Purple,33.89464039,10.61053652,37.97738874,3.53712388,461.7909591\\r\\njustin26@gmail.com,\"32303 Baldwin Causeway\\nSouth Robertside, HI 58126\",RosyBrown,32.76566459,12.50654819,35.82346667,3.12650949,488.3875258\\r\\ndouglas95@yahoo.com,\"395 Summers Courts Apt. 413\\nCoopermouth, IA 21205-1079\",White,33.76981237,11.30446231,37.83397173,5.137816746,593.1564015\\r\\nqmorse@yahoo.com,\"0360 Pearson Dam Suite 263\\nLake Shawn, UT 65986-4190\",MediumTurquoise,31.81248256,10.88692118,34.89782769,3.128638856,392.810345\\r\\njason50@bates.net,\"74839 Michael Plains Suite 356\\nSouth Austinshire, ND 40309-1424\",Bisque,32.00850452,12.09588949,36.37750903,3.178952405,443.197221\\r\\nqeaton@savage.com,\"27032 Michelle Forest\\nMorrowtown, ND 14749\",SaddleBrown,33.30433662,12.69266143,37.33359061,3.827375915,535.4807752\\r\\ntluna@hotmail.com,\"01512 Hendricks Rue\\nEast Pamela, PR 46481\",YellowGreen,32.18984473,11.38677555,38.19748325,4.808320373,533.3965538\\r\\nkara33@gmail.com,\"5527 Hogan Road\\nSouth Jeffreychester, MA 28632\",LavenderBlush,34.93560511,10.72841854,36.88119241,4.048510087,532.1274491\\r\\nthomas22@yahoo.com,\"7346 Jennifer Green Suite 148\\nWagnertown, MT 65972\",IndianRed,33.55165061,11.93689516,35.90025278,4.543332413,558.9481124\\r\\ndavid47@hotmail.com,\"37216 Krista Drives\\nWest Andrew, DE 70036\",DarkKhaki,32.38696867,12.7179951,35.12882235,3.481062133,508.7719067\\r\\nbeasleyjoseph@hotmail.com,\"1094 Bentley Forges\\nLake Antonio, MA 29181-3664\",SaddleBrown,33.34450869,10.96980287,35.97457811,2.627624971,403.7669021\\r\\nhoffmandaniel@yahoo.com,\"922 Hampton Path Suite 198\\nPort Jasonmouth, FL 46623\",Orchid,33.67275789,13.42054574,37.7636904,4.794312263,640.5840619\\r\\ngarnerjustin@king.com,\"0833 Brian Canyon Suite 566\\nAnthonymouth, VT 01329-7541\",DarkCyan,34.00207092,11.85468192,37.49189221,2.761861926,461.6282784\\r\\nfrancesjohnson@lee.com,\"577 Peters Turnpike\\nLoriport, MA 60572-1669\",Aquamarine,32.65539704,11.91885971,35.71626916,2.159676023,382.4161079\\r\\nawu@robinson.org,\"0281 Dale Wells Suite 656\\nEast Joshua, ME 73389\",Brown,32.05426185,13.14966956,37.6504002,4.195614413,561.8746577\\r\\nxevans@hotmail.com,\"13164 Miller Camp\\nSouth Deannaberg, ID 85433\",DarkMagenta,33.22877227,12.6853939,36.04898625,2.139403004,444.5761441\\r\\nlauriewilson@jackson.com,\"389 Joshua Stravenue Apt. 983\\nMartinezland, MN 29049\",Cornsilk,32.07759004,10.34787695,39.0451557,3.434559723,401.0331352\\r\\ncruiz@yahoo.com,\"497 Julian Brook Suite 872\\nHillberg, FM 87927-5760\",LightSalmon,33.98100558,9.316289204,36.91495155,2.868428182,384.3260571\\r\\ntammy12@gmail.com,\"78297 Brown Street Apt. 786\\nEast Taylorfurt, AK 97246\",Chocolate,34.17951757,12.58154773,35.4442647,3.137068975,527.7829958\\r\\nadamperkins@terrell.com,\"2595 James Creek Apt. 571\\nMillerberg, HI 82236\",PaleVioletRed,32.60273898,11.76444759,37.92270381,3.525806412,482.1449969\\r\\nwillie26@johnson-howard.com,\"97686 Robertson Cape Suite 607\\nPort Veronicaside, NE 47293\",Wheat,32.03054972,12.64420212,38.00182747,5.038107494,594.2744834\\r\\nyvaughn@meyer.com,\"9863 Dawn Court Suite 429\\nLake Connie, MI 12238\",OldLace,33.10035775,11.83211223,36.84149164,3.612239152,502.0925279\\r\\ncarolfarley@gmail.com,\"51173 Curtis Cliff Apt. 727\\nRamoston, DE 32714-4579\",SlateBlue,32.99059904,10.44123506,35.9389625,2.895075163,407.6571788\\r\\nrhonda01@gmail.com,\"939 Watson Run\\nStaceyberg, VT 58376-0454\",Orchid,34.38582029,12.72971951,36.2321098,5.705940717,708.9351849\\r\\ndavid80@knight.com,\"368 Morris Ports Apt. 735\\nNew Lisaville, GA 34271-8632\",MediumAquaMarine,34.35719627,9.477777608,37.90601452,5.047022551,531.9615505\\r\\naaron04@yahoo.com,\"16338 Scott Corner Suite 727\\nWest Alexandra, AR 54429\",SeaGreen,33.7051128,10.16317906,37.76304108,4.778973636,521.2407802\\r\\nkaylahenderson@hotmail.com,\"Unit 1609 Box 3480\\nDPO AA 95185\",MediumSpringGreen,32.40429505,11.60899794,38.11045691,2.966558885,447.3690272\\r\\nmholt@hotmail.com,\"486 Adams Hills\\nNorth Walter, MS 18124\",LightSeaGreen,31.82934646,11.26825923,36.95696543,2.668919773,385.152338\\r\\ntanya20@gmail.com,\"69279 Stewart Mountains\\nSouth Pamela, KS 22541-3414\",DarkKhaki,31.36621217,11.16315954,37.08831936,3.620354589,430.5888826\\r\\naaron89@gmail.com,\"0128 Sampson Loop Suite 943\\nHoffmanton, MO 02122\",SaddleBrown,31.44744649,10.1016322,38.04345265,4.238296188,418.6027421\\r\\nhunterlucas@gmail.com,\"89301 Kylie Crossroad\\nPetersonberg, MH 23834\",Turquoise,33.58294684,12.76153128,36.90818962,2.479339823,478.9514048\\r\\nsfarley@jones.com,\"0554 Powers Curve\\nNathanchester, FL 06878-6336\",AntiqueWhite,32.39742194,12.05534016,37.68546549,3.506967574,483.7965221\\r\\nsarahtran@dixon.com,\"770 Katie Walk Apt. 585\\nPort David, MN 52850\",GoldenRod,35.03744996,11.93593497,35.78392374,3.310150347,538.9419745\\r\\nrandywhite@armstrong.biz,\"0506 Pitts Forks\\nWoodsbury, AL 98082-8186\",Teal,32.78494023,12.45120001,36.66579137,3.535802468,486.1637991\\r\\ntsmith@yahoo.com,\"92028 Thomas Mountains Suite 044\\nNew Matthew, MI 02429-0994\",Bisque,33.97172204,12.28446707,38.29572526,1.13047696,385.0950071\\r\\nmartinezleah@carter.com,\"8456 Joseph Locks Suite 926\\nChristopherport, TN 57784\",PaleGreen,33.38599019,12.78217179,35.55077227,3.228717686,527.7837898\\r\\nsteven00@combs.com,\"64460 Morris Fords\\nGonzalesmouth, MI 40832\",RosyBrown,33.55655567,12.96030713,37.95194632,3.345922321,547.1907494\\r\\nblakekent@smith-pena.com,\"3933 Brooke Point\\nJohnsonburgh, DE 22659-3488\",Crimson,33.58737339,9.953995006,37.34573893,3.215666827,410.6029439\\r\\namanda03@yahoo.com,\"313 Lisa Loop Apt. 543\\nNorth Jenniferchester, MN 58819\",Brown,34.18818406,13.13002166,35.42933439,3.790552137,583.977802\\r\\nbrandonsmith@yahoo.com,\"62106 Nathan Mountain Suite 505\\nNorth Matthewborough, AZ 32092-6122\",Gold,33.59396355,11.52056679,36.1891318,3.561215271,474.5323294\\r\\nthardy@perry.com,\"39209 Cooper Neck Apt. 541\\nTylermouth, ME 94450\",SeaGreen,33.23626572,10.97255431,34.57402759,2.931619535,414.9350607\\r\\nmichael86@yahoo.com,\"87270 Garrett Cliffs Suite 361\\nBrooksberg, MO 26555-2502\",LightYellow,33.2089197,13.53191346,38.95246252,3.046540621,550.8133677\\r\\nulee@wells.com,\"309 Singleton Hollow\\nMatthewhaven, NJ 68776-7477\",LemonChiffon,33.63781168,12.03950237,34.48718475,2.739200467,458.7811317\\r\\njudithsmith@jimenez.biz,\"186 Anthony Route\\nGordonview, AS 78120-4633\",DarkOrange,33.5904858,10.94206962,36.1704942,2.783963128,407.542168\\r\\nnblack@smith-romero.biz,\"00615 Tracy Islands\\nNew Marcfort, MO 87297-7431\",LightCyan,34.19550803,12.66419262,37.02715036,4.330407444,581.3089329\\r\\nmichaelcampbell@yahoo.com,\"96480 White Lane Suite 521\\nPattersonhaven, OR 39409-4561\",Gray,35.86023651,11.73066139,36.88214908,3.416209978,546.5566669\\r\\nrcarter@crane-thompson.org,\"14064 Frazier Hills Apt. 176\\nAmyborough, MP 77858-0018\",MediumVioletRed,33.48193057,11.91867031,37.31770495,3.336339382,503.1750852\\r\\ndwhite@gmail.com,\"02136 White Grove Suite 418\\nMarytown, DE 70033\",OrangeRed,33.25823783,11.51494907,37.1280395,4.662845304,549.1315733\\r\\nvancemichelle@gmail.com,\"6586 Reginald Crest Apt. 061\\nNorth Josephfort, NM 55275\",DeepPink,32.31985797,12.4181132,36.1553362,3.222080767,482.8309859\\r\\nkylemelendez@hotmail.com,\"2749 Cunningham Flat Apt. 838\\nDerekberg, OH 45288\",DeepPink,32.43083858,13.88727541,38.38195597,3.772969025,557.6082621\\r\\nrichard35@hale-duncan.net,\"33940 Craig Throughway Apt. 334\\nMartinview, IL 62015-0314\",GhostWhite,31.44597248,12.84649907,37.86921694,3.42014953,484.8769649\\r\\nwaltonkaren@gmail.com,\"355 Villegas Isle Apt. 070\\nWest Jenniferview, NM 26775-4339\",Green,35.74266981,10.88982828,35.56543624,6.115198946,669.9871405\\r\\ncontrerastiffany@gmail.com,\"439 Todd Summit Apt. 478\\nMooreland, AR 31655\",CadetBlue,34.01261946,12.91457009,36.04620352,3.488029991,547.7099886\\r\\nrogerstiffany@wilson-horne.com,\"30700 Justin Ports\\nPort David, PA 52171-5921\",DarkOliveGreen,34.14039343,11.56852664,38.91874854,4.082855279,537.8252823\\r\\nwaltercharles@sanders.net,\"291 Stephen Glens Apt. 532\\nJacquelineton, NJ 53606-5656\",IndianRed,32.37798966,11.97175079,37.19936753,2.829699575,408.2169018\\r\\njohn96@chan-anderson.biz,\"04290 Barron Square\\nLaurenmouth, AS 79917-9544\",Snow,33.17233109,13.07869244,37.32981863,5.405406467,663.0748176\\r\\nbushsharon@barber.com,\"0013 Andre Field\\nWhitebury, AZ 68447-6306\",DarkSeaGreen,33.2473222,11.95642648,36.51734612,3.45175071,506.3758668\\r\\nnicolegay@jennings.com,\"50718 Timothy Light\\nGarciaport, SC 60266-6696\",BlueViolet,33.59891334,13.25273709,37.30596142,2.935577274,528.4193297\\r\\nrchambers@hotmail.com,\"53964 Weaver Brook Suite 861\\nStevensonshire, NY 18128\",OliveDrab,33.08529799,13.09353728,38.31564796,4.750360071,632.1235881\\r\\ngomezalicia@hotmail.com,\"506 Allison Cove Apt. 766\\nWeeksstad, AS 71308\",MediumSpringGreen,32.27844335,12.52747174,36.68836654,3.531402303,488.270298\\r\\npotterkenneth@strickland.com,\"2559 Harris Pines Apt. 514\\nMichaelshire, ME 21753-8834\",MediumSlateBlue,33.44155304,11.23596895,37.05261631,3.90447938,508.735741\\r\\ncharlesjackson@brady-fuller.net,\"3802 Veronica Causeway\\nEast Patrickfurt, DC 84522\",GhostWhite,32.86530121,12.07483017,35.56917032,2.39907979,411.1869636\\r\\njacquelinewest@pace-herrera.com,\"592 Villanueva Village\\nWoodsstad, AK 20530\",Purple,31.5261979,12.04533198,38.50588333,2.847709026,409.0945262\\r\\nstevenjohnson@yahoo.com,\"PSC 4427, Box 6116\\nAPO AP 87584-5187\",SandyBrown,33.00084964,11.23074331,36.99529017,3.781703565,467.8009244\\r\\njohnsonchelsea@gmail.com,\"19270 Velasquez Coves\\nBoylechester, AZ 51480\",LightCyan,32.08838063,11.9078441,35.18912244,4.349778419,512.1658664\\r\\njenniferjenkins@jones.com,\"USNS Jacobs\\nFPO AE 71507-1312\",LightSalmon,33.26544447,13.05221039,38.7756653,4.574287716,608.2718166\\r\\nebutler@rogers-gonzalez.com,\"001 Estrada Union\\nLewismouth, TN 47360\",Chartreuse,32.9925732,13.00436201,36.98504142,4.620416385,589.0264898\\r\\nellenlucas@cox.org,\"86268 Davis Corner\\nNorth Danielview, CT 59551-9382\",DarkGoldenRod,33.86318871,11.52352268,35.93804523,3.0130325,444.0538266\\r\\nelizabethnunez@vasquez-nelson.net,\"209 Andrew Viaduct\\nPort Anna, OR 01627-8037\",Cornsilk,32.59209323,10.31471792,36.7290294,4.791108745,493.1812614\\r\\nramirezjacob@turner.com,\"19704 Kaitlin Flat\\nWest Andrewtown, VI 38642\",Magenta,32.38103459,12.43312853,37.6269068,4.334001444,532.7248055\\r\\nbrian51@cook.info,\"0508 Terrance Cliff\\nRebekahtown, NC 48724-8308\",SaddleBrown,31.5171218,10.74518855,38.79123469,1.428823877,275.9184207\\r\\nvictoriajohnson@gmail.com,\"2082 Christopher Place Apt. 081\\nCynthiahaven, HI 99393-8910\",DarkViolet,33.45430193,11.01675564,37.63731096,4.137000388,511.0387861\\r\\nlawrencewalton@hotmail.com,\"584 Patterson Falls\\nWest Alicia, DE 45751\",Chocolate,32.21552742,12.21685469,36.9539597,2.910530822,438.417742\\r\\nashleymoreno@gmail.com,\"11430 Meza Green Suite 037\\nMartinezborough, FL 40624-8726\",DarkViolet,31.6739155,12.32914702,37.07437107,3.982462319,475.7250679\\r\\nwesleyvance@moore.com,\"210 Johnson Street Suite 717\\nNew Bethanyborough, MO 84817\",Magenta,33.71755461,10.80696607,36.01231723,3.701229217,483.5431939\\r\\nedwardbrown@yahoo.com,\"2971 Angela Island\\nLake Timothychester, NE 48734-6685\",HotPink,33.21547157,12.1351014,37.14209369,5.840505876,663.8036933\\r\\nyoungellen@hotmail.com,\"994 Joel Highway Suite 216\\nNew Jessicafort, UT 14179\",DodgerBlue,31.57413802,12.94155573,36.72527683,4.560396067,544.4092722\\r\\nrobin80@yahoo.com,\"928 Bailey Road\\nEast Mary, DE 11678-5634\",Turquoise,33.89457039,13.30029936,36.39368386,4.490002066,630.1567282\\r\\ndana59@hotmail.com,\"31927 Jill Mountain\\nSouth Jessica, MN 63418\",Blue,33.12869269,10.39845771,36.683393,3.859817999,461.1122484\\r\\nbwilliams@hotmail.com,\"1549 Walker Passage Apt. 463\\nWest Calvin, AZ 03144\",PaleVioletRed,34.37032705,11.88780042,37.86144726,3.046620189,491.9115051\\r\\nwhitetyler@anderson-avery.com,\"4547 Stafford Throughway Apt. 178\\nNorth Patrick, MD 60768-4837\",MidnightBlue,34.08026009,11.5914397,36.45689841,4.652854446,574.4156896\\r\\nrwilliams@trujillo.biz,\"54560 Thompson Creek Apt. 029\\nNew Brianville, FL 84430-8588\",BlanchedAlmond,31.42522688,13.27147504,37.23984661,4.02210291,530.7667187\\r\\nrandall85@williams.com,\"5086 Morales Islands Apt. 099\\nNew Patricia, IL 78823\",Black,33.62530726,12.9882206,39.67259096,3.969417759,581.7987977\\r\\nkevin45@mathews.net,\"02393 Baker Falls\\nNew Georgeport, ND 36338-5110\",DodgerBlue,31.86274111,14.03986726,37.02226899,3.738225173,556.2981412\\r\\ndeborah48@white.com,\"1693 Gary Mission Suite 479\\nLake Kelly, MO 68205\",DarkGreen,33.29258731,11.90650776,38.42286529,3.3766875,502.1327892\\r\\nhoganrichard@george.com,\"4929 Michelle Grove\\nLake Alexis, MT 92147-1660\",BlanchedAlmond,33.74922777,11.1371403,38.40137369,4.595522709,556.1863689\\r\\nkelly24@lewis.info,\"983 Ross Glen\\nWest Jessica, NJ 42860-5757\",Bisque,34.14496899,12.90266489,36.61119878,2.223993458,475.0716299\\r\\nkatherinegray@yahoo.com,\"685 Sexton Ranch Suite 125\\nLake Robertshire, NE 04469-3024\",Cyan,31.12397435,12.38651626,35.63211222,4.288486771,486.9470538\\r\\nefoster@williamson-boyd.org,\"4968 Bennett Manors\\nRogerschester, IL 81579-8333\",Lavender,34.27824788,11.82272175,36.30854529,2.117382542,434.144202\\r\\njordandavid@gmail.com,\"61502 Parker Vista Apt. 363\\nJonesshire, GU 33532\",Violet,33.66661568,10.98576379,36.35250277,0.936497597,304.1355916\\r\\nsanchezamber@scott-patterson.com,\"257 Hunt Manors\\nSouth Charlottefort, CT 15033\",Fuchsia,32.25997327,14.13289346,37.02347924,3.762070443,571.2160048\\r\\ntinayoung@hotmail.com,\"83995 Owens Course Apt. 747\\nSouth Jennifer, NJ 29942\",MistyRose,35.4331653,11.91221048,36.08964366,4.000963586,583.0796357\\r\\nalicia28@fuller.com,\"8055 Robinson Brooks Apt. 657\\nWalterview, KY 83019\",CadetBlue,31.96732095,11.48158715,39.24096484,3.532517165,445.7498412\\r\\nrileyalejandro@gmail.com,\"Unit 1475 Box 4215\\nDPO AE 39546-5591\",LightSteelBlue,32.14906052,10.04731474,37.18144731,3.535088428,392.9922559\\r\\noliviamarshall@sawyer-sellers.com,\"Unit 5934 Box 9748\\nDPO AA 37361-3043\",Brown,33.91884418,12.42873693,37.30536188,4.158214653,565.9943634\\r\\nhortonrobert@hotmail.com,\"31309 Stacey Keys Apt. 979\\nSouth Jason, KS 35357\",Salmon,33.20061634,11.96598027,36.83153585,3.549036057,499.1401524\\r\\nmontgomerycheyenne@hotmail.com,\"1812 Sandra Shoal Apt. 350\\nAmandamouth, SC 87794-1628\",FireBrick,32.5367749,11.12136606,36.97937237,4.129254688,510.5394217\\r\\nmartinkristi@sanchez-coleman.com,\"PSC 1893, Box 7023\\nAPO AA 73445\",Lime,34.0836633,8.668349517,35.90675637,2.252445963,308.5277466\\r\\njefferycampbell@gmail.com,\"381 Ashley Locks Suite 366\\nNorth Migueltown, TX 09795-0494\",GreenYellow,33.02502014,12.50421981,37.64583879,4.051382465,561.516532\\r\\nwebertom@phelps.com,\"189 Crawford Hill Apt. 746\\nNew Madison, WV 14108-4333\",DarkOrchid,31.26810421,12.13250911,35.45679815,3.072076141,423.4705332\\r\\naschmidt@johnson.biz,\"Unit 1743 Box 8085\\nDPO AE 47693-8164\",Blue,32.21292383,11.73299146,35.63395395,4.331863027,513.1531119\\r\\nlisadelgado@gmail.com,\"57993 Jennifer Unions Suite 685\\nEmilyville, OK 53366-2375\",Olive,33.4995061,11.94659088,36.48632507,3.937862643,529.1945189\\r\\nsharongraves@yahoo.com,\"73098 Ronald Port\\nCliffordborough, MO 37479-9244\",Wheat,32.90485367,12.55610762,37.80550943,0.26990109,314.4385183\\r\\nflevine@gmail.com,\"5292 Melanie Crescent Apt. 064\\nFischerborough, NV 85721-5045\",AliceBlue,32.20465465,12.48070152,37.68028761,3.27946626,478.584286\\r\\nrskinner@johnson-jefferson.com,\"24725 Neal Lock\\nCynthiaville, NY 51578\",OliveDrab,32.67515451,12.59419407,37.68387537,2.571777835,444.582165\\r\\nkiarakim@harris.org,\"1502 Gonzalez Throughway\\nKathrynchester, FM 86014-7194\",Linen,32.99838766,10.94684194,37.64780806,3.826030618,475.0154071\\r\\nrachelrodriguez@lara-waters.com,\"35466 Tommy Stream\\nPort Daniellemouth, KS 68863-6330\",LightSlateGray,33.94311858,11.48419869,36.83936583,2.402453833,436.7205559\\r\\ndbrown@gmail.com,\"76666 Kathy Locks\\nPort Susan, ME 64335\",Indigo,33.55210836,11.12087087,36.80837606,4.027813842,521.1953105\\r\\nmary45@gmail.com,\"33213 Tanner Knolls Apt. 519\\nWhiteborough, OR 37119-7790\",Lime,33.67683087,10.97139243,37.72236711,3.629339915,478.1830597\\r\\nmarcusleach@floyd.org,\"Unit 3998 Box 4348\\nDPO AA 37629\",SteelBlue,32.64194637,11.58894858,36.32214092,3.189609942,432.4811686\\r\\nlmunoz@yahoo.com,\"2100 Austin Camp Apt. 943\\nAnthonymouth, WV 24243-3781\",Olive,33.42121218,10.70664152,35.7661535,3.393975043,438.3037078\\r\\ndvasquez@wiley.com,\"967 Chloe Springs Suite 554\\nLake Ashley, GA 03230\",HoneyDew,32.76707608,11.07625934,34.7797505,2.57494847,388.9405488\\r\\ndylanmartin@hotmail.com,\"42644 Helen Keys Apt. 103\\nJessicahaven, KS 89406-1960\",MidnightBlue,33.11995443,12.95326254,37.03427958,3.47202138,534.7714849\\r\\nxkaufman@gmail.com,\"02342 Melissa Islands\\nSmithhaven, KS 68335\",DarkViolet,35.37187609,10.5724666,36.86218335,4.198349061,537.9157529\\r\\njasonhensley@yahoo.com,\"97262 Brian Skyway\\nLake Marissa, GU 96859\",Sienna,33.97608258,11.65803681,37.42527868,2.086348147,407.8763782\\r\\ngstrong@hotmail.com,\"7875 Landry Road Apt. 947\\nBrownshire, NC 10074-7735\",Pink,34.03416353,13.59251266,36.83865679,3.605933918,618.8459704\\r\\narnoldsamuel@wilson.com,\"949 Tapia Viaduct\\nMartinezfurt, CT 79271-8205\",LightSkyBlue,32.77049216,11.37176736,35.26149812,4.03438613,502.7710746\\r\\nscottrose@yahoo.com,\"50639 Sarah Isle Apt. 268\\nYangmouth, MO 05540\",SaddleBrown,33.50381038,11.23341495,37.21115258,2.32055025,397.4205841\\r\\nsalazarkaren@hotmail.com,\"51173 Burton Wall Apt. 417\\nPrestonville, NY 37002\",SteelBlue,31.87455169,10.29035077,36.92976156,3.491093337,392.2852442\\r\\nsusanibarra@yahoo.com,\"426 Scott Radial Apt. 065\\nAbigailstad, MS 16590-2222\",Thistle,32.53323998,14.12178384,38.40632901,5.320093864,689.2356998\\r\\nnhenry@hotmail.com,\"3874 Harper Plaza\\nNorth Nancy, ME 96802-9462\",BlanchedAlmond,34.85131417,12.41554196,37.67232248,3.130538462,543.1326263\\r\\nmillerrachel@gallagher-nichols.com,\"Unit 4742 Box 9517\\nDPO AE 67219-3123\",Turquoise,34.21146128,10.77024892,34.64980005,4.985204971,577.7360249\\r\\ngarciakevin@gmail.com,\"845 Colleen Ways\\nLake Matthewview, VT 65340-3159\",Orange,33.45961932,12.66439052,36.36684325,1.726962043,436.5807403\\r\\nphilliproberson@yahoo.com,\"Unit 0373 Box 8981\\nDPO AA 89902\",Beige,34.20053941,12.66780888,37.48704925,3.701622287,553.9946736\\r\\nkstafford@estes-nguyen.com,\"PSC 4856, Box 1297\\nAPO AA 17032-7944\",YellowGreen,31.1695068,13.97018107,36.67395274,1.785173945,427.3565308\\r\\nkennethperry@bowen.org,\"272 Frederick Lodge\\nEast Andrew, FL 07414\",SlateGray,32.51819681,11.50925345,36.59928909,3.02267576,424.7287739\\r\\nprussell@lopez.com,\"9985 Wolf Pass\\nBrandimouth, CA 63346\",Bisque,34.52301962,11.40577045,36.37827101,4.041244969,541.049831\\r\\nmosleyjacob@yahoo.com,\"PSC 1790, Box 8872\\nAPO AE 01821-4769\",Orange,33.66599032,12.26371768,38.86023443,3.139526935,469.3831462\\r\\nrhaas@yahoo.com,\"4502 Jennifer Prairie Suite 029\\nLake Jesse, LA 02328-3633\",DimGray,31.60983957,12.7107013,36.16646339,2.562818811,444.5455497\\r\\nantonioharris@hotmail.com,\"4307 Nicholas Drive Apt. 259\\nRamirezberg, AS 59832\",MediumBlue,33.70088554,13.47157767,37.0716432,2.379076497,492.5568337\\r\\naustinthomas@gmail.com,\"5855 Gross Burgs Suite 169\\nBallland, AS 98525\",AntiqueWhite,33.81173341,11.18680872,36.29889308,4.301996499,535.3216101\\r\\nbethsullivan@reed.net,\"80500 Mary Corners Apt. 225\\nWallsville, ME 80526\",Beige,34.33667722,11.24681261,38.68258378,2.094761669,408.9583359\\r\\nncummings@yahoo.com,\"344 Jessica Stravenue\\nNew Brian, MA 04730-6761\",Beige,31.06132516,12.35763811,36.16604163,4.089330841,487.5554581\\r\\nhking@hotmail.com,\"85181 Christian Courts Suite 758\\nLarryfurt, MS 38722-6766\",PeachPuff,33.0697683,11.76432596,36.87502581,3.516051017,487.6462317\\r\\nannstone@hotmail.com,\"543 Reynolds Burg\\nMelindaberg, KY 46631\",LightPink,34.60624245,11.7618838,38.1265198,1.820810618,402.1671222\\r\\nchristopher44@hotmail.com,\"549 Anna Avenue\\nPort Laura, CA 76209-9339\",WhiteSmoke,34.23824191,11.55030011,35.76932963,4.183143662,551.0230017\\r\\nautumn88@mendoza-mills.com,\"214 Obrien Lakes Suite 572\\nSouth Jeremy, KS 52867-7617\",MediumOrchid,32.04781463,12.48266992,35.53602453,3.393902788,497.3895578\\r\\ndhudson@ramos.net,\"5661 Grant Centers\\nStevensfurt, CT 53959\",Olive,30.97167564,11.73136429,36.07455114,4.426364081,494.6386098\\r\\negomez@hotmail.com,\"768 Riley Pine Apt. 624\\nKellymouth, OK 98992-3108\",MistyRose,33.60685082,12.21407375,37.19842782,2.905238361,479.2474168\\r\\nkimberlyruiz@smith-gordon.com,\"503 Adams Pines Apt. 638\\nNorth Ashleyside, AZ 34687-6128\",DarkRed,33.44812501,11.90375668,36.8745436,2.782757828,462.6565189\\r\\nmooremichelle@logan.com,\"07813 Randy Point\\nLake Thomasberg, MO 06013-9920\",Pink,33.36938094,12.22248394,36.35523488,3.447017793,515.5024797\\r\\naaron22@gmail.com,\"38678 Sean Drive Suite 293\\nKarentown, IA 78306-2717\",DarkGray,33.45229528,12.00591637,36.53409567,4.712233579,576.4776072\\r\\nmichelleshepherd@price.com,\"6820 Erica Vista Apt. 418\\nBrightside, IA 50639\",Orchid,32.90469244,11.91374515,36.0586476,1.228112423,357.8579836\\r\\nzscott@wright.com,\"9909 Hoffman Ranch Suite 195\\nScotthaven, SC 53575\",PeachPuff,35.63085386,12.12540197,38.18776368,4.019051427,597.7398789\\r\\ntracy79@wheeler.net,\"513 Moore Crescent Apt. 416\\nAmandaberg, GU 03655-2219\",Magenta,32.24635,11.30555143,37.13312676,1.707389729,327.3779526\\r\\nbrian28@sanchez.org,\"7446 Mary Ferry\\nLake Sherryfurt, GA 49066-0207\",GhostWhite,34.69559119,11.60899707,37.68487728,3.163091931,510.4013885\\r\\nleonardhancock@hotmail.com,\"64147 Alexander Station Apt. 474\\nEast Jasonview, MN 83788\",SeaShell,34.34392191,11.6930582,36.81293413,3.447092896,510.5014785\\r\\ndavidsonkathleen@gmail.com,\"70128 Zimmerman Overpass\\nRobertsshire, VA 59860\",DarkBlue,33.68093695,11.20156988,37.83544773,2.208813678,403.8195198\\r\\nnathan84@lowery.net,\"01242 Stephanie Ways Suite 003\\nChurchville, MO 35617\",MediumSeaGreen,32.0609144,12.62543264,35.53914243,5.41235784,627.6033187\\r\\nkellydeborah@chan.biz,\"354 Sanchez Wall Suite 884\\nJuliabury, VI 39735\",DarkTurquoise,33.4310971,13.35063168,37.96597162,2.768851943,510.6617922\\r\\nlewisjessica@craig-evans.com,\"4483 Jones Motorway Suite 872\\nLake Jamiefurt, UT 75292\",Tan,33.23765998,13.56615961,36.4179848,3.746572973,573.8474377\\r\\nkatrina56@gmail.com,\"172 Owen Divide Suite 497\\nWest Richard, CA 19320\",PaleVioletRed,34.70252897,11.69573629,37.19026771,3.576525915,529.0490041\\r\\ndale88@hotmail.com,\"0787 Andrews Ranch Apt. 633\\nSouth Chadburgh, TN 56128\",Cornsilk,32.64677668,11.49940906,38.33257633,4.958264473,551.6201455\\r\\ncwilson@hotmail.com,\"680 Jennifer Lodge Apt. 808\\nBrendachester, TX 05000-5873\",Teal,33.32250105,12.39142299,36.84008573,2.336484668,456.4695101\\r\\nhannahwilson@davidson.com,\"49791 Rachel Heights Apt. 898\\nEast Drewborough, OR 55919-9528\",DarkMagenta,33.71598092,12.41880832,35.77101619,2.735159567,497.7786422\\r\\n'}"
            ]
          },
          "metadata": {},
          "execution_count": 4
        }
      ]
    },
    {
      "cell_type": "markdown",
      "metadata": {
        "id": "VlFay_PioAiI"
      },
      "source": [
        "ver datos"
      ]
    },
    {
      "cell_type": "code",
      "metadata": {
        "colab": {
          "base_uri": "https://localhost:8080/",
          "height": 857
        },
        "id": "Ee6tJ3NlLM_e",
        "outputId": "9a549de8-571e-49aa-f308-95204b435b37"
      },
      "source": [
        "analisis = pd.read_csv('ecommerce_customers.csv',delimiter=',',header='infer')\n",
        "analisis"
      ],
      "execution_count": 7,
      "outputs": [
        {
          "output_type": "execute_result",
          "data": {
            "text/html": [
              "<div>\n",
              "<style scoped>\n",
              "    .dataframe tbody tr th:only-of-type {\n",
              "        vertical-align: middle;\n",
              "    }\n",
              "\n",
              "    .dataframe tbody tr th {\n",
              "        vertical-align: top;\n",
              "    }\n",
              "\n",
              "    .dataframe thead th {\n",
              "        text-align: right;\n",
              "    }\n",
              "</style>\n",
              "<table border=\"1\" class=\"dataframe\">\n",
              "  <thead>\n",
              "    <tr style=\"text-align: right;\">\n",
              "      <th></th>\n",
              "      <th>Email</th>\n",
              "      <th>Address</th>\n",
              "      <th>Avatar</th>\n",
              "      <th>Avg. Session Length</th>\n",
              "      <th>Time on App</th>\n",
              "      <th>Time on Website</th>\n",
              "      <th>Length of Membership</th>\n",
              "      <th>Yearly Amount Spent</th>\n",
              "    </tr>\n",
              "  </thead>\n",
              "  <tbody>\n",
              "    <tr>\n",
              "      <th>0</th>\n",
              "      <td>mstephenson@fernandez.com</td>\n",
              "      <td>835 Frank Tunnel\\nWrightmouth, MI 82180-9605</td>\n",
              "      <td>Violet</td>\n",
              "      <td>34.497268</td>\n",
              "      <td>12.655651</td>\n",
              "      <td>39.577668</td>\n",
              "      <td>4.082621</td>\n",
              "      <td>587.951054</td>\n",
              "    </tr>\n",
              "    <tr>\n",
              "      <th>1</th>\n",
              "      <td>hduke@hotmail.com</td>\n",
              "      <td>4547 Archer Common\\nDiazchester, CA 06566-8576</td>\n",
              "      <td>DarkGreen</td>\n",
              "      <td>31.926272</td>\n",
              "      <td>11.109461</td>\n",
              "      <td>37.268959</td>\n",
              "      <td>2.664034</td>\n",
              "      <td>392.204933</td>\n",
              "    </tr>\n",
              "    <tr>\n",
              "      <th>2</th>\n",
              "      <td>pallen@yahoo.com</td>\n",
              "      <td>24645 Valerie Unions Suite 582\\nCobbborough, D...</td>\n",
              "      <td>Bisque</td>\n",
              "      <td>33.000915</td>\n",
              "      <td>11.330278</td>\n",
              "      <td>37.110597</td>\n",
              "      <td>4.104543</td>\n",
              "      <td>487.547505</td>\n",
              "    </tr>\n",
              "    <tr>\n",
              "      <th>3</th>\n",
              "      <td>riverarebecca@gmail.com</td>\n",
              "      <td>1414 David Throughway\\nPort Jason, OH 22070-1220</td>\n",
              "      <td>SaddleBrown</td>\n",
              "      <td>34.305557</td>\n",
              "      <td>13.717514</td>\n",
              "      <td>36.721283</td>\n",
              "      <td>3.120179</td>\n",
              "      <td>581.852344</td>\n",
              "    </tr>\n",
              "    <tr>\n",
              "      <th>4</th>\n",
              "      <td>mstephens@davidson-herman.com</td>\n",
              "      <td>14023 Rodriguez Passage\\nPort Jacobville, PR 3...</td>\n",
              "      <td>MediumAquaMarine</td>\n",
              "      <td>33.330673</td>\n",
              "      <td>12.795189</td>\n",
              "      <td>37.536653</td>\n",
              "      <td>4.446308</td>\n",
              "      <td>599.406092</td>\n",
              "    </tr>\n",
              "    <tr>\n",
              "      <th>...</th>\n",
              "      <td>...</td>\n",
              "      <td>...</td>\n",
              "      <td>...</td>\n",
              "      <td>...</td>\n",
              "      <td>...</td>\n",
              "      <td>...</td>\n",
              "      <td>...</td>\n",
              "      <td>...</td>\n",
              "    </tr>\n",
              "    <tr>\n",
              "      <th>495</th>\n",
              "      <td>lewisjessica@craig-evans.com</td>\n",
              "      <td>4483 Jones Motorway Suite 872\\nLake Jamiefurt,...</td>\n",
              "      <td>Tan</td>\n",
              "      <td>33.237660</td>\n",
              "      <td>13.566160</td>\n",
              "      <td>36.417985</td>\n",
              "      <td>3.746573</td>\n",
              "      <td>573.847438</td>\n",
              "    </tr>\n",
              "    <tr>\n",
              "      <th>496</th>\n",
              "      <td>katrina56@gmail.com</td>\n",
              "      <td>172 Owen Divide Suite 497\\nWest Richard, CA 19320</td>\n",
              "      <td>PaleVioletRed</td>\n",
              "      <td>34.702529</td>\n",
              "      <td>11.695736</td>\n",
              "      <td>37.190268</td>\n",
              "      <td>3.576526</td>\n",
              "      <td>529.049004</td>\n",
              "    </tr>\n",
              "    <tr>\n",
              "      <th>497</th>\n",
              "      <td>dale88@hotmail.com</td>\n",
              "      <td>0787 Andrews Ranch Apt. 633\\nSouth Chadburgh, ...</td>\n",
              "      <td>Cornsilk</td>\n",
              "      <td>32.646777</td>\n",
              "      <td>11.499409</td>\n",
              "      <td>38.332576</td>\n",
              "      <td>4.958264</td>\n",
              "      <td>551.620146</td>\n",
              "    </tr>\n",
              "    <tr>\n",
              "      <th>498</th>\n",
              "      <td>cwilson@hotmail.com</td>\n",
              "      <td>680 Jennifer Lodge Apt. 808\\nBrendachester, TX...</td>\n",
              "      <td>Teal</td>\n",
              "      <td>33.322501</td>\n",
              "      <td>12.391423</td>\n",
              "      <td>36.840086</td>\n",
              "      <td>2.336485</td>\n",
              "      <td>456.469510</td>\n",
              "    </tr>\n",
              "    <tr>\n",
              "      <th>499</th>\n",
              "      <td>hannahwilson@davidson.com</td>\n",
              "      <td>49791 Rachel Heights Apt. 898\\nEast Drewboroug...</td>\n",
              "      <td>DarkMagenta</td>\n",
              "      <td>33.715981</td>\n",
              "      <td>12.418808</td>\n",
              "      <td>35.771016</td>\n",
              "      <td>2.735160</td>\n",
              "      <td>497.778642</td>\n",
              "    </tr>\n",
              "  </tbody>\n",
              "</table>\n",
              "<p>500 rows × 8 columns</p>\n",
              "</div>"
            ],
            "text/plain": [
              "                             Email  ... Yearly Amount Spent\n",
              "0        mstephenson@fernandez.com  ...          587.951054\n",
              "1                hduke@hotmail.com  ...          392.204933\n",
              "2                 pallen@yahoo.com  ...          487.547505\n",
              "3          riverarebecca@gmail.com  ...          581.852344\n",
              "4    mstephens@davidson-herman.com  ...          599.406092\n",
              "..                             ...  ...                 ...\n",
              "495   lewisjessica@craig-evans.com  ...          573.847438\n",
              "496            katrina56@gmail.com  ...          529.049004\n",
              "497             dale88@hotmail.com  ...          551.620146\n",
              "498            cwilson@hotmail.com  ...          456.469510\n",
              "499      hannahwilson@davidson.com  ...          497.778642\n",
              "\n",
              "[500 rows x 8 columns]"
            ]
          },
          "metadata": {},
          "execution_count": 7
        }
      ]
    },
    {
      "cell_type": "code",
      "metadata": {
        "colab": {
          "base_uri": "https://localhost:8080/"
        },
        "id": "uOi4wDlMLQul",
        "outputId": "567019cc-ecd3-41d4-f5f8-170d2d20e9e7"
      },
      "source": [
        "!wget https://github.com/eliazar-rodriguez-velasco/Extraccion_conocimientos_bd/blob/main/actividad2/ecommerce_customers.csv\n",
        "df_customers = pd.read_csv('ecommerce_customers.csv',delimiter=',',header='infer')\n"
      ],
      "execution_count": 6,
      "outputs": [
        {
          "output_type": "stream",
          "name": "stdout",
          "text": [
            "--2021-10-11 02:34:23--  https://github.com/eliazar-rodriguez-velasco/Extraccion_conocimientos_bd/blob/main/actividad2/ecommerce_customers.csv\n",
            "Resolving github.com (github.com)... 140.82.113.3\n",
            "Connecting to github.com (github.com)|140.82.113.3|:443... connected.\n",
            "HTTP request sent, awaiting response... 200 OK\n",
            "Length: unspecified [text/html]\n",
            "Saving to: ‘ecommerce_customers.csv.1’\n",
            "\n",
            "ecommerce_customers     [ <=>                ] 365.53K  --.-KB/s    in 0.02s   \n",
            "\n",
            "2021-10-11 02:34:23 (17.0 MB/s) - ‘ecommerce_customers.csv.1’ saved [374302]\n",
            "\n"
          ]
        }
      ]
    },
    {
      "cell_type": "code",
      "metadata": {
        "colab": {
          "base_uri": "https://localhost:8080/"
        },
        "id": "GsH7GOriLaw1",
        "outputId": "fbb7bf2a-e60a-4019-df27-06534a9fb213"
      },
      "source": [
        "print(analisis.columns)"
      ],
      "execution_count": 8,
      "outputs": [
        {
          "output_type": "stream",
          "name": "stdout",
          "text": [
            "Index(['Email', 'Address', 'Avatar', 'Avg. Session Length', 'Time on App',\n",
            "       'Time on Website', 'Length of Membership', 'Yearly Amount Spent'],\n",
            "      dtype='object')\n"
          ]
        }
      ]
    },
    {
      "cell_type": "markdown",
      "metadata": {
        "id": "UiaxRQj9pCxU"
      },
      "source": [
        ""
      ]
    },
    {
      "cell_type": "code",
      "metadata": {
        "colab": {
          "base_uri": "https://localhost:8080/"
        },
        "id": "s9lkVEQgLzwN",
        "outputId": "97c9aac6-3022-4baa-de15-c4e506b4bf42"
      },
      "source": [
        "# tipo de datos \n",
        "df_customers.info()"
      ],
      "execution_count": 16,
      "outputs": [
        {
          "output_type": "stream",
          "name": "stdout",
          "text": [
            "<class 'pandas.core.frame.DataFrame'>\n",
            "RangeIndex: 500 entries, 0 to 499\n",
            "Data columns (total 8 columns):\n",
            " #   Column                Non-Null Count  Dtype  \n",
            "---  ------                --------------  -----  \n",
            " 0   Email                 500 non-null    object \n",
            " 1   Address               500 non-null    object \n",
            " 2   Avatar                500 non-null    object \n",
            " 3   Avg. Session Length   500 non-null    float64\n",
            " 4   Time on App           500 non-null    float64\n",
            " 5   Time on Website       499 non-null    float64\n",
            " 6   Length of Membership  499 non-null    float64\n",
            " 7   Yearly Amount Spent   500 non-null    float64\n",
            "dtypes: float64(5), object(3)\n",
            "memory usage: 31.4+ KB\n"
          ]
        }
      ]
    },
    {
      "cell_type": "markdown",
      "metadata": {
        "id": "rna6FICIqwm2"
      },
      "source": [
        "al momento de platicar con el equipo se llego a la conclucion\n",
        " que de acuerdo al problema que se plantea en el ejercicio que dice:\n",
        " la compañia esta tratando de decidir \n",
        "  si enfocar sus esfuerzos con la aplicacion movil o el sitio web. \n",
        "  se tomaron los siguientes campos como mas importantes\n",
        "  avatar: el cual va relacionado con los diferentes tiempos o datos \n",
        "  \n",
        "  time on app y time on website que son todos los tiempos relacionados con los diferentes usuarios y que van de acuerdo a la problematica para sacar el mejor resultado "
      ]
    },
    {
      "cell_type": "code",
      "metadata": {
        "colab": {
          "base_uri": "https://localhost:8080/",
          "height": 417
        },
        "id": "XbKYpK4eOjrI",
        "outputId": "f6665ff6-7ca8-4420-dce7-834f888e49e9"
      },
      "source": [
        "pd.DataFrame(analisis, columns = [\"Avatar\", \"Time on App\", \"Time on Website\"])"
      ],
      "execution_count": 12,
      "outputs": [
        {
          "output_type": "execute_result",
          "data": {
            "text/html": [
              "<div>\n",
              "<style scoped>\n",
              "    .dataframe tbody tr th:only-of-type {\n",
              "        vertical-align: middle;\n",
              "    }\n",
              "\n",
              "    .dataframe tbody tr th {\n",
              "        vertical-align: top;\n",
              "    }\n",
              "\n",
              "    .dataframe thead th {\n",
              "        text-align: right;\n",
              "    }\n",
              "</style>\n",
              "<table border=\"1\" class=\"dataframe\">\n",
              "  <thead>\n",
              "    <tr style=\"text-align: right;\">\n",
              "      <th></th>\n",
              "      <th>Avatar</th>\n",
              "      <th>Time on App</th>\n",
              "      <th>Time on Website</th>\n",
              "    </tr>\n",
              "  </thead>\n",
              "  <tbody>\n",
              "    <tr>\n",
              "      <th>0</th>\n",
              "      <td>Violet</td>\n",
              "      <td>12.655651</td>\n",
              "      <td>39.577668</td>\n",
              "    </tr>\n",
              "    <tr>\n",
              "      <th>1</th>\n",
              "      <td>DarkGreen</td>\n",
              "      <td>11.109461</td>\n",
              "      <td>37.268959</td>\n",
              "    </tr>\n",
              "    <tr>\n",
              "      <th>2</th>\n",
              "      <td>Bisque</td>\n",
              "      <td>11.330278</td>\n",
              "      <td>37.110597</td>\n",
              "    </tr>\n",
              "    <tr>\n",
              "      <th>3</th>\n",
              "      <td>SaddleBrown</td>\n",
              "      <td>13.717514</td>\n",
              "      <td>36.721283</td>\n",
              "    </tr>\n",
              "    <tr>\n",
              "      <th>4</th>\n",
              "      <td>MediumAquaMarine</td>\n",
              "      <td>12.795189</td>\n",
              "      <td>37.536653</td>\n",
              "    </tr>\n",
              "    <tr>\n",
              "      <th>...</th>\n",
              "      <td>...</td>\n",
              "      <td>...</td>\n",
              "      <td>...</td>\n",
              "    </tr>\n",
              "    <tr>\n",
              "      <th>495</th>\n",
              "      <td>Tan</td>\n",
              "      <td>13.566160</td>\n",
              "      <td>36.417985</td>\n",
              "    </tr>\n",
              "    <tr>\n",
              "      <th>496</th>\n",
              "      <td>PaleVioletRed</td>\n",
              "      <td>11.695736</td>\n",
              "      <td>37.190268</td>\n",
              "    </tr>\n",
              "    <tr>\n",
              "      <th>497</th>\n",
              "      <td>Cornsilk</td>\n",
              "      <td>11.499409</td>\n",
              "      <td>38.332576</td>\n",
              "    </tr>\n",
              "    <tr>\n",
              "      <th>498</th>\n",
              "      <td>Teal</td>\n",
              "      <td>12.391423</td>\n",
              "      <td>36.840086</td>\n",
              "    </tr>\n",
              "    <tr>\n",
              "      <th>499</th>\n",
              "      <td>DarkMagenta</td>\n",
              "      <td>12.418808</td>\n",
              "      <td>35.771016</td>\n",
              "    </tr>\n",
              "  </tbody>\n",
              "</table>\n",
              "<p>500 rows × 3 columns</p>\n",
              "</div>"
            ],
            "text/plain": [
              "               Avatar  Time on App  Time on Website\n",
              "0              Violet    12.655651        39.577668\n",
              "1           DarkGreen    11.109461        37.268959\n",
              "2              Bisque    11.330278        37.110597\n",
              "3         SaddleBrown    13.717514        36.721283\n",
              "4    MediumAquaMarine    12.795189        37.536653\n",
              "..                ...          ...              ...\n",
              "495               Tan    13.566160        36.417985\n",
              "496     PaleVioletRed    11.695736        37.190268\n",
              "497          Cornsilk    11.499409        38.332576\n",
              "498              Teal    12.391423        36.840086\n",
              "499       DarkMagenta    12.418808        35.771016\n",
              "\n",
              "[500 rows x 3 columns]"
            ]
          },
          "metadata": {},
          "execution_count": 12
        }
      ]
    },
    {
      "cell_type": "markdown",
      "metadata": {
        "id": "QYH_9Ih8sTrs"
      },
      "source": [
        "una vez analizados los campos \n",
        "se realizo el proceso para obtener el promedio el cual nos indica cual de las dos aplicaciones es la que se esta usando mas."
      ]
    },
    {
      "cell_type": "code",
      "metadata": {
        "colab": {
          "base_uri": "https://localhost:8080/"
        },
        "id": "PyXoKzDTQwUz",
        "outputId": "7a938464-b8a2-4894-b3dd-dc81ba73c100"
      },
      "source": [
        "\n",
        "analisis['Time on Website'].mean()"
      ],
      "execution_count": 20,
      "outputs": [
        {
          "output_type": "execute_result",
          "data": {
            "text/plain": [
              "37.059788368076156"
            ]
          },
          "metadata": {},
          "execution_count": 20
        }
      ]
    },
    {
      "cell_type": "code",
      "metadata": {
        "colab": {
          "base_uri": "https://localhost:8080/"
        },
        "id": "8BoHlkZ6Ml3g",
        "outputId": "a5246038-98fe-430a-d74c-b3001b64f555"
      },
      "source": [
        "analisis['Time on App'].mean()\n"
      ],
      "execution_count": 11,
      "outputs": [
        {
          "output_type": "execute_result",
          "data": {
            "text/plain": [
              "12.052487936928012"
            ]
          },
          "metadata": {},
          "execution_count": 11
        }
      ]
    },
    {
      "cell_type": "markdown",
      "metadata": {
        "id": "XNOqVjtjs3Lv"
      },
      "source": [
        "de igual forma como otro dato se muestran mas campos como el maximo  y el minimo que en este momoento solo no importa el time on app y time on website  \n",
        "el minimo en time on app fue de 8.5 y el maximo de 15.12\n",
        "y en time on website \n",
        "el minimo fue de 33.91 y el maximo de 40.00"
      ]
    },
    {
      "cell_type": "code",
      "metadata": {
        "colab": {
          "base_uri": "https://localhost:8080/",
          "height": 312
        },
        "id": "kYc81nbQL6fk",
        "outputId": "c9f9091b-5389-43c4-f6c3-08e889cde922"
      },
      "source": [
        "df_customers.describe()"
      ],
      "execution_count": 18,
      "outputs": [
        {
          "output_type": "execute_result",
          "data": {
            "text/html": [
              "<div>\n",
              "<style scoped>\n",
              "    .dataframe tbody tr th:only-of-type {\n",
              "        vertical-align: middle;\n",
              "    }\n",
              "\n",
              "    .dataframe tbody tr th {\n",
              "        vertical-align: top;\n",
              "    }\n",
              "\n",
              "    .dataframe thead th {\n",
              "        text-align: right;\n",
              "    }\n",
              "</style>\n",
              "<table border=\"1\" class=\"dataframe\">\n",
              "  <thead>\n",
              "    <tr style=\"text-align: right;\">\n",
              "      <th></th>\n",
              "      <th>Avg. Session Length</th>\n",
              "      <th>Time on App</th>\n",
              "      <th>Time on Website</th>\n",
              "      <th>Length of Membership</th>\n",
              "      <th>Yearly Amount Spent</th>\n",
              "    </tr>\n",
              "  </thead>\n",
              "  <tbody>\n",
              "    <tr>\n",
              "      <th>count</th>\n",
              "      <td>500.000000</td>\n",
              "      <td>500.000000</td>\n",
              "      <td>499.000000</td>\n",
              "      <td>499.000000</td>\n",
              "      <td>500.000000</td>\n",
              "    </tr>\n",
              "    <tr>\n",
              "      <th>mean</th>\n",
              "      <td>33.053194</td>\n",
              "      <td>12.052488</td>\n",
              "      <td>37.059788</td>\n",
              "      <td>3.535567</td>\n",
              "      <td>499.314038</td>\n",
              "    </tr>\n",
              "    <tr>\n",
              "      <th>std</th>\n",
              "      <td>0.992563</td>\n",
              "      <td>0.994216</td>\n",
              "      <td>1.011396</td>\n",
              "      <td>0.999169</td>\n",
              "      <td>79.314782</td>\n",
              "    </tr>\n",
              "    <tr>\n",
              "      <th>min</th>\n",
              "      <td>29.532429</td>\n",
              "      <td>8.508152</td>\n",
              "      <td>33.913847</td>\n",
              "      <td>0.269901</td>\n",
              "      <td>256.670582</td>\n",
              "    </tr>\n",
              "    <tr>\n",
              "      <th>25%</th>\n",
              "      <td>32.341822</td>\n",
              "      <td>11.388153</td>\n",
              "      <td>36.346012</td>\n",
              "      <td>2.933598</td>\n",
              "      <td>445.038277</td>\n",
              "    </tr>\n",
              "    <tr>\n",
              "      <th>50%</th>\n",
              "      <td>33.082008</td>\n",
              "      <td>11.983231</td>\n",
              "      <td>37.067090</td>\n",
              "      <td>3.535088</td>\n",
              "      <td>498.887875</td>\n",
              "    </tr>\n",
              "    <tr>\n",
              "      <th>75%</th>\n",
              "      <td>33.711985</td>\n",
              "      <td>12.753850</td>\n",
              "      <td>37.716878</td>\n",
              "      <td>4.127420</td>\n",
              "      <td>549.313828</td>\n",
              "    </tr>\n",
              "    <tr>\n",
              "      <th>max</th>\n",
              "      <td>36.139662</td>\n",
              "      <td>15.126994</td>\n",
              "      <td>40.005182</td>\n",
              "      <td>6.922689</td>\n",
              "      <td>765.518462</td>\n",
              "    </tr>\n",
              "  </tbody>\n",
              "</table>\n",
              "</div>"
            ],
            "text/plain": [
              "       Avg. Session Length  ...  Yearly Amount Spent\n",
              "count           500.000000  ...           500.000000\n",
              "mean             33.053194  ...           499.314038\n",
              "std               0.992563  ...            79.314782\n",
              "min              29.532429  ...           256.670582\n",
              "25%              32.341822  ...           445.038277\n",
              "50%              33.082008  ...           498.887875\n",
              "75%              33.711985  ...           549.313828\n",
              "max              36.139662  ...           765.518462\n",
              "\n",
              "[8 rows x 5 columns]"
            ]
          },
          "metadata": {},
          "execution_count": 18
        }
      ]
    },
    {
      "cell_type": "markdown",
      "metadata": {
        "id": "TIT6k1cSt6Rv"
      },
      "source": [
        "RESULTADOS\n",
        "al realizar la actividad se decidio que los esfuerzos deberian enfocar mas en la aplicacion web ya que es donde hay mas cantidad de usuarios y como lo dice la tabla el maximo en web es de 40 tomando un poco mas de el doble que en movil.\n",
        "pero al final pensamos como punto de vista que tambien se debe de enfocar en la app movil ya que podrian abarcar mas usuarios "
      ]
    }
  ]
}